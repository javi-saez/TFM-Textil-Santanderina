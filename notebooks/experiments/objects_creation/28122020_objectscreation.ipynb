{
 "cells": [
  {
   "cell_type": "code",
   "execution_count": 2,
   "metadata": {},
   "outputs": [],
   "source": [
    "import pandas as pd\n",
    "import openpyxl\n",
    "import xlrd"
   ]
  },
  {
   "cell_type": "code",
   "execution_count": 3,
   "metadata": {},
   "outputs": [],
   "source": [
    "data = pd.read_excel('C:/Users/Javier/Documents/GIT/Repositories/TFM-Textil-Santanderina/data/raw/ejemplo_datos.xlsx', engine='openpyxl')"
   ]
  },
  {
   "cell_type": "code",
   "execution_count": 47,
   "metadata": {},
   "outputs": [],
   "source": [
    "class factura(object):\n",
    "    \"\"\"Returns back only the commercial invoice rows (facturas)\n",
    "    \n",
    "    Parameters:\n",
    "    dataframe (df): df with all the information provided, payments(abono) also included\n",
    "    \n",
    "    Returns:\n",
    "    \n",
    "    df: only the commercial invoices with the rest of the columns(variables)\n",
    "    \n",
    "    \n",
    "    \"\"\"\n",
    "    def __init__(self, tabulear_data):\n",
    "        self.info = tabulear_data\n",
    "    \n",
    "    @property\n",
    "    def info(self):\n",
    "        return self.info\n",
    "    \n",
    "    @info.setter\n",
    "    def info(self, new_data):\n",
    "        new_df = pd.DataFrame(columns=new_data.columns)\n",
    "        num_datos = len(new_data)\n",
    "        for i in range(num_datos):\n",
    "             important_info = new_data.iloc[i,0]\n",
    "        if important_info == 'F':\n",
    "                important_rows = new_data.iloc[i,:]\n",
    "                df_facturas = new_df.append(important_rows)\n",
    "                self._info = df_facturas\n",
    "                return print(df_facturas.shape)\n",
    "#to do , agruppation of the lines with the same document number            "
   ]
  },
  {
   "cell_type": "code",
   "execution_count": 46,
   "metadata": {},
   "outputs": [
    {
     "name": "stdout",
     "output_type": "stream",
     "text": [
      "(1, 33)\n"
     ]
    }
   ],
   "source": [
    "a = factura(data)"
   ]
  },
  {
   "cell_type": "code",
   "execution_count": 35,
   "metadata": {},
   "outputs": [
    {
     "data": {
      "text/plain": [
       "(417,)"
      ]
     },
     "execution_count": 35,
     "metadata": {},
     "output_type": "execute_result"
    }
   ],
   "source": [
    "a.shape"
   ]
  },
  {
   "cell_type": "code",
   "execution_count": 35,
   "metadata": {},
   "outputs": [
    {
     "data": {
      "text/plain": [
       "<bound method DataFrame.count of     TipoDoc  Documento  LineaDoc  Factura  LineaFra                    Fecha  \\\n",
       "0         F     657453         1   657453         1  2020-01-24 00:00:00.000   \n",
       "1         F     657454         1   657454         1  2020-01-24 00:00:00.000   \n",
       "2         F     657455         1   657455         1  2020-01-24 00:00:00.000   \n",
       "3         F     657455         2   657455         2  2020-01-24 00:00:00.000   \n",
       "4         F     657455         3   657455         3  2020-01-24 00:00:00.000   \n",
       "..      ...        ...       ...      ...       ...                      ...   \n",
       "412       F     657468         1   657468         1  2020-01-27 00:00:00.000   \n",
       "413       F     657468         1   657468         1  2020-01-27 00:00:00.000   \n",
       "414       F     657468         1   657468         1  2020-01-27 00:00:00.000   \n",
       "415       F     657468         1   657468         1  2020-01-27 00:00:00.000   \n",
       "416       F     657468         1   657468         1  2020-01-27 00:00:00.000   \n",
       "\n",
       "     Cliente PaisCliente PaisDestino  Departamento  ... Combinacion  Color  \\\n",
       "0     999544          TN          TN             2  ...           0      0   \n",
       "1     999663          NL          PT             2  ...           0   8196   \n",
       "2     999984          DE          DE             3  ...           0  45531   \n",
       "3     999984          DE          DE             3  ...           0  65141   \n",
       "4     999984          DE          DE             3  ...           0  78666   \n",
       "..       ...         ...         ...           ...  ...         ...    ...   \n",
       "412   330126          ES          ES             3  ...           0  75004   \n",
       "413   330126          ES          ES             3  ...           0  75004   \n",
       "414   330126          ES          ES             3  ...           0  75004   \n",
       "415   330126          ES          ES             3  ...           0  75004   \n",
       "416   330126          ES          ES             3  ...           0  75004   \n",
       "\n",
       "     Ancho       CN8  Composicion                            Lote  Pieza  \\\n",
       "0      145  58012200         1151  50-0404 / 001 R 01      2 2019     31   \n",
       "1      145  52094900         1151  11-2193 / 000           4 2019      6   \n",
       "2      160  55142200         3743  35-0121 / 001           2 2019     19   \n",
       "3      160  55142200         3743  48-0114 / 001           2 2019     10   \n",
       "4      160  55142200         3743  35-0123 / 001           2 2019     14   \n",
       "..     ...       ...          ...                             ...    ...   \n",
       "412    160  55142200           10  50-0109 / 002           2 2019      5   \n",
       "413    160  55142200           10  50-0109 / 002           2 2019      6   \n",
       "414    160  55142200           10  50-0109 / 002           2 2019      7   \n",
       "415    160  55142200           10  50-0109 / 001           2 2019      1   \n",
       "416    160  55142200           10  50-0109 / 001           2 2019      2   \n",
       "\n",
       "     MetroPieza  MetrosReducidos  MetrosDefectuosos  \n",
       "0           5.0              5.0                0.0  \n",
       "1           5.0              5.0                0.0  \n",
       "2           1.0              1.0                0.0  \n",
       "3           1.0              1.0                0.0  \n",
       "4           1.0              1.0                0.0  \n",
       "..          ...              ...                ...  \n",
       "412        88.5             88.5                0.0  \n",
       "413        36.7             36.7                0.0  \n",
       "414        36.3             36.3                0.0  \n",
       "415        80.4             80.4                0.0  \n",
       "416        35.8             35.8                0.0  \n",
       "\n",
       "[417 rows x 33 columns]>"
      ]
     },
     "execution_count": 35,
     "metadata": {},
     "output_type": "execute_result"
    }
   ],
   "source": [
    "data.count"
   ]
  },
  {
   "cell_type": "code",
   "execution_count": 53,
   "metadata": {},
   "outputs": [],
   "source": [
    "class abono(object):\n",
    "    \"\"\"Returns back only the payment rows (abonos)\n",
    "    \n",
    "    Parameters:\n",
    "    dataframe (df): df with all the information provided, commercial invoices(facturas) also included\n",
    "    \n",
    "    Returns:\n",
    "    \n",
    "    df: only the payment rows with the rest of the columns(variables)\n",
    "    \n",
    "    \n",
    "    \"\"\"\n",
    "    def __init__(self, tabulear_data):\n",
    "        self.info = tabulear_data\n",
    "    \n",
    "    @property\n",
    "    def info(self):\n",
    "        return self.info\n",
    "    \n",
    "    @info.setter\n",
    "    def info(self, new_data):\n",
    "        new_df = pd.DataFrame(columns=new_data.columns)\n",
    "        num_datos = len(new_data)\n",
    "        for i in range(num_datos):\n",
    "             important_info = new_data.iloc[i,0]\n",
    "        if important_info == 'A':\n",
    "                important_rows = new_data.iloc[i,:]\n",
    "                df_facturas = new_df.append(important_rows)\n",
    "                self._info = df_facturas\n",
    "                return print(df_facturas.shape)"
   ]
  },
  {
   "cell_type": "code",
   "execution_count": 54,
   "metadata": {},
   "outputs": [],
   "source": [
    "b  = abono(data)"
   ]
  },
  {
   "cell_type": "code",
   "execution_count": 25,
   "metadata": {},
   "outputs": [],
   "source": [
    "class articulo(object):\n",
    "    \"\"\"Returns back only the individual codes related with any product(articulos)\n",
    "    \n",
    "    Parameters:\n",
    "    dataframe (df): df with all the information provided\n",
    "    \n",
    "    Returns:\n",
    "    \n",
    "    df: only the numbers to identify our produtcs (CodigoArticulo column):\n",
    "    \n",
    "    \n",
    "    \"\"\"\n",
    "    def __init__(self, codigo):\n",
    "        self.numero = codigo\n",
    "    \n",
    "    @property\n",
    "    def numero(self):\n",
    "        return self.numero\n",
    "    \n",
    "    @numero.setter\n",
    "    def numero(self, new_data):\n",
    "                new_df = pd.DataFrame(columns=new_data.columns)\n",
    "                df_numeros = new_data.iloc[:,18]\n",
    "                self._numero = df_numeros\n",
    "                return print(df_numeros)"
   ]
  },
  {
   "cell_type": "code",
   "execution_count": 81,
   "metadata": {},
   "outputs": [
    {
     "name": "stdout",
     "output_type": "stream",
     "text": [
      "0      114721\n",
      "1      166468\n",
      "2      164389\n",
      "3      165445\n",
      "4      165446\n",
      "        ...  \n",
      "412     83993\n",
      "413     83993\n",
      "414     83993\n",
      "415     83993\n",
      "416     83993\n",
      "Name: CodigoArticulo, Length: 417, dtype: int64\n"
     ]
    }
   ],
   "source": [
    "a = articulo(data)"
   ]
  },
  {
   "cell_type": "code",
   "execution_count": 79,
   "metadata": {},
   "outputs": [
    {
     "ename": "IndentationError",
     "evalue": "expected an indented block (<ipython-input-79-bee958e4ede4>, line 4)",
     "output_type": "error",
     "traceback": [
      "\u001b[1;36m  File \u001b[1;32m\"<ipython-input-79-bee958e4ede4>\"\u001b[1;36m, line \u001b[1;32m4\u001b[0m\n\u001b[1;33m    self.info = linea\u001b[0m\n\u001b[1;37m    ^\u001b[0m\n\u001b[1;31mIndentationError\u001b[0m\u001b[1;31m:\u001b[0m expected an indented block\n"
     ]
    }
   ],
   "source": [
    "def pedido(object):\n",
    "    \n",
    "    \"\"\"Returns back only the id of the doc and the line of any commercial invoice to distinguish all the different lines into our facturas documents\n",
    "    \n",
    "    \n",
    "    Parameters:\n",
    "    dataframe (df): df with all the information provided\n",
    "    \n",
    "    Returns:\n",
    "    \n",
    "    df: only the commercial invoices with the columns Documento (id doc) and LineaDoc(line of the commercial invoice related to a product.\n",
    "    \n",
    "    \n",
    "    \"\"\"\n",
    "        def __init__(self, linea):\n",
    "        self.info = linea\n",
    "        \n",
    "        @property\n",
    "        def info(self):\n",
    "            return self.info\n",
    "        \n",
    "        @info.setter\n",
    "        def info(self, new_data):\n",
    "            new_df = pd.DataFrame(columns=new_data.columns)\n",
    "            num_datos = len(new_data)\n",
    "            for i in range(num_datos):\n",
    "                important_info = new_data.iloc[i,0]\n",
    "            if important_info == 'F':\n",
    "                    important_data = new_data.iloc[:,1:3]\n",
    "                    df_lineas = new_df.append(important_data)\n",
    "                    self._info = df_lineas\n",
    "                    return print(df_lineas)"
   ]
  }
 ],
 "metadata": {
  "kernelspec": {
   "display_name": "Python 3",
   "language": "python",
   "name": "python3"
  },
  "language_info": {
   "codemirror_mode": {
    "name": "ipython",
    "version": 3
   },
   "file_extension": ".py",
   "mimetype": "text/x-python",
   "name": "python",
   "nbconvert_exporter": "python",
   "pygments_lexer": "ipython3",
   "version": "3.8.5"
  }
 },
 "nbformat": 4,
 "nbformat_minor": 4
}
