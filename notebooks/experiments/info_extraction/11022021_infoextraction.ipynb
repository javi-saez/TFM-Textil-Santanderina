{
 "cells": [
  {
   "cell_type": "code",
   "execution_count": 1,
   "metadata": {},
   "outputs": [],
   "source": [
    "import pandas as pd\n",
    "import openpyxl\n",
    "import xlrd\n",
    "import numpy as np\n",
    "import glob\n",
    "import matplotlib.pyplot as plt"
   ]
  },
  {
   "cell_type": "code",
   "execution_count": 3,
   "metadata": {},
   "outputs": [],
   "source": [
    "data = pd.read_excel('C:/Users/Javier/Documents/GIT/Repositories/TFM-Textil-Santanderina/data/raw/ejemplo_datos.xlsx', engine='openpyxl')"
   ]
  },
  {
   "cell_type": "code",
   "execution_count": 62,
   "metadata": {},
   "outputs": [
    {
     "data": {
      "text/plain": [
       "0        5.0\n",
       "1        5.0\n",
       "2        1.0\n",
       "3        1.0\n",
       "4        1.0\n",
       "       ...  \n",
       "412    624.8\n",
       "413    624.8\n",
       "414    624.8\n",
       "415    624.8\n",
       "416    624.8\n",
       "Name: Cantidad, Length: 417, dtype: float64"
      ]
     },
     "execution_count": 62,
     "metadata": {},
     "output_type": "execute_result"
    }
   ],
   "source": [
    "data.iloc[:,12]"
   ]
  },
  {
   "cell_type": "code",
   "execution_count": 60,
   "metadata": {},
   "outputs": [
    {
     "data": {
      "text/plain": [
       "0      F\n",
       "1      F\n",
       "2      F\n",
       "3      F\n",
       "4      F\n",
       "      ..\n",
       "412    F\n",
       "413    F\n",
       "414    F\n",
       "415    F\n",
       "416    F\n",
       "Name: TipoDoc, Length: 417, dtype: object"
      ]
     },
     "execution_count": 60,
     "metadata": {},
     "output_type": "execute_result"
    }
   ],
   "source": [
    "d = data.iloc[:,0]\n",
    "d"
   ]
  },
  {
   "cell_type": "markdown",
   "metadata": {},
   "source": [
    "**We want to know in time the evolution of the total quantity of metres sold and refund to our petitioners (other businesses).**"
   ]
  },
  {
   "cell_type": "code",
   "execution_count": 20,
   "metadata": {},
   "outputs": [
    {
     "name": "stdout",
     "output_type": "stream",
     "text": [
      "esto funciona\n",
      "esto funciona\n",
      "esto funciona\n",
      "esto funciona\n",
      "esto funciona\n",
      "esto funciona\n",
      "esto funciona\n",
      "esto funciona\n",
      "esto funciona\n",
      "esto funciona\n",
      "esto funciona\n",
      "esto funciona\n",
      "esto funciona\n",
      "esto funciona\n",
      "esto funciona\n",
      "esto funciona\n",
      "esto funciona\n",
      "esto funciona\n",
      "esto funciona\n",
      "esto funciona\n",
      "esto funciona\n",
      "esto funciona\n",
      "esto funciona\n",
      "esto funciona\n",
      "esto funciona\n",
      "esto funciona\n",
      "esto funciona\n",
      "esto funciona\n",
      "esto funciona\n",
      "esto funciona\n",
      "esto funciona\n",
      "esto funciona\n",
      "esto funciona\n",
      "esto funciona\n",
      "esto funciona\n",
      "esto funciona\n",
      "esto funciona\n",
      "esto funciona\n",
      "esto funciona\n",
      "esto funciona\n",
      "esto funciona\n",
      "esto funciona\n",
      "esto funciona\n",
      "esto funciona\n",
      "esto funciona\n",
      "esto funciona\n",
      "esto funciona\n",
      "esto funciona\n",
      "esto funciona\n",
      "esto funciona\n",
      "esto funciona\n",
      "esto funciona\n",
      "esto funciona\n",
      "esto funciona\n",
      "esto funciona\n",
      "esto funciona\n",
      "esto funciona\n",
      "esto funciona\n",
      "esto funciona\n",
      "esto funciona\n"
     ]
    }
   ],
   "source": [
    "#before initializing this loop we want to explain which\n",
    "#qmf is a vector which will contain the sum for each month \n",
    "# the cumulative sum of all the metres sold to other businesses:\n",
    "qmf = np.empty(0)\n",
    "#qma is la qmf but being the cumulative sum of all the metres returned\n",
    "#by any reason by the customers\n",
    "qma = np.empty(0)\n",
    "\n",
    "#our constants...\n",
    "#excels in our repositorie:\n",
    "tablas20_ = glob.glob(\"C:/Users/Javier/Documents/GIT/Repositories/TFM-Textil-Santanderina/data/raw/20*.xlsx\")\n",
    "#empty arrays:\n",
    "empty_array = np.empty(0)\n",
    "\n",
    "\n",
    "for f in tablas20_:\n",
    "    #for each f, we have one excel table as a pd.dataframe(df_i)\n",
    "    df = pd.read_excel(f, engine='openpyxl')\n",
    "    \n",
    "    #we create subsets of the data we are interested in\n",
    "    #being F the type of document when we sell a quantity of metres\n",
    "    # and being A when we have a refund for a product return\n",
    "    df_f = df.loc[df['TipoDoc'].isin(['F'])]\n",
    "    df_a = df.loc[df['TipoDoc'].isin(['A'])]\n",
    "    \n",
    "    #fm and am are two empty np arrays in which we are going to store all the collected values \n",
    "    #for each month, remember that each one of our excel iterations is one month\n",
    "    fm = empty_array\n",
    "    am = empty_array\n",
    "\n",
    "    \n",
    "    #line 12 is the one with the quantities related to each document\n",
    "    fm = np.append(fm,df_f.iloc[:,12])\n",
    "    am = np.append(am,df_a.iloc[:,12])\n",
    "    \n",
    "    \n",
    "    #finally sum all the quantities for each month in our \n",
    "    #QUANTITY arrays:\n",
    "    qmf = np.append(qmf,fm.sum())\n",
    "    qma = np.append(qma,am.sum())\n",
    "    print(\"esto funciona\")"
   ]
  },
  {
   "cell_type": "code",
   "execution_count": 27,
   "metadata": {},
   "outputs": [],
   "source": [
    "from matplotlib import pyplot"
   ]
  },
  {
   "cell_type": "code",
   "execution_count": 24,
   "metadata": {},
   "outputs": [
    {
     "data": {
      "text/plain": [
       "[<matplotlib.lines.Line2D at 0x297b50a2ac0>]"
      ]
     },
     "execution_count": 24,
     "metadata": {},
     "output_type": "execute_result"
    },
    {
     "data": {
      "image/png": "[encoded data removed]",
      "text/plain": [
       "<Figure size 432x288 with 1 Axes>"
      ]
     },
     "metadata": {
      "needs_background": "light"
     },
     "output_type": "display_data"
    }
   ],
   "source": [
    "pyplot.plot(qmf, 'b', label = 'Metros facturados de producto.')\n",
    "pyplot.plot(abs(qma), '--r', label = 'Metros abonados de vuelta.')"
   ]
  },
  {
   "cell_type": "markdown",
   "metadata": {},
   "source": [
    "Note the cycical componente we can observe in the total sold metres of product, being ist worts downshift around summer, in the refund we observe a constant line with exceptions in the peaks of  the production. We see a considerable decresase during the last year 2020 in our total quantities sold, but as we said, the refund metres quantity stay unchanged."
   ]
  },
  {
   "cell_type": "markdown",
   "metadata": {},
   "source": [
    "**Also, it will be interesting to ask ourselves if that decresaded in our sells means less income to the firm. Let's focus now on the monthly time series of our incomes and refunds (in $€$)**"
   ]
  },
  {
   "cell_type": "code",
   "execution_count": 22,
   "metadata": {},
   "outputs": [
    {
     "name": "stdout",
     "output_type": "stream",
     "text": [
      "esto funciona\n",
      "esto funciona\n",
      "esto funciona\n",
      "esto funciona\n",
      "esto funciona\n",
      "esto funciona\n",
      "esto funciona\n",
      "esto funciona\n",
      "esto funciona\n",
      "esto funciona\n",
      "esto funciona\n",
      "esto funciona\n",
      "esto funciona\n",
      "esto funciona\n",
      "esto funciona\n",
      "esto funciona\n",
      "esto funciona\n",
      "esto funciona\n",
      "esto funciona\n",
      "esto funciona\n",
      "esto funciona\n",
      "esto funciona\n",
      "esto funciona\n",
      "esto funciona\n",
      "esto funciona\n",
      "esto funciona\n",
      "esto funciona\n",
      "esto funciona\n",
      "esto funciona\n",
      "esto funciona\n",
      "esto funciona\n",
      "esto funciona\n",
      "esto funciona\n",
      "esto funciona\n",
      "esto funciona\n",
      "esto funciona\n",
      "esto funciona\n",
      "esto funciona\n",
      "esto funciona\n",
      "esto funciona\n",
      "esto funciona\n",
      "esto funciona\n",
      "esto funciona\n",
      "esto funciona\n",
      "esto funciona\n",
      "esto funciona\n",
      "esto funciona\n",
      "esto funciona\n",
      "esto funciona\n",
      "esto funciona\n",
      "esto funciona\n",
      "esto funciona\n",
      "esto funciona\n",
      "esto funciona\n",
      "esto funciona\n",
      "esto funciona\n",
      "esto funciona\n",
      "esto funciona\n",
      "esto funciona\n",
      "esto funciona\n"
     ]
    }
   ],
   "source": [
    "#before initializing this loop we want to explain which\n",
    "#qmf is a vector which will contain the sum for each month \n",
    "# the cumulative sum of all the metres sold to other businesses:\n",
    "pmf = np.empty(0)\n",
    "#qma is la qmf but being the cumulative sum of all the metres returned\n",
    "#by any reason by the customers\n",
    "pma = np.empty(0)\n",
    "\n",
    "#our constants...\n",
    "#excels in our repositorie:\n",
    "tablas20_ = glob.glob(\"C:/Users/Javier/Documents/GIT/Repositories/TFM-Textil-Santanderina/data/raw/20*.xlsx\")\n",
    "#empty arrays:\n",
    "empty_array = np.empty(0)\n",
    "\n",
    "\n",
    "for f in tablas20_:\n",
    "    #for each f, we have one excel table as a pd.dataframe(df_i)\n",
    "    df = pd.read_excel(f, engine='openpyxl')\n",
    "    \n",
    "    #we create subsets of the data we are interested in\n",
    "    #being F the type of document when we sell a quantity of metres\n",
    "    # and being A when we have a refund for a product return\n",
    "    df_f = df.loc[df['TipoDoc'].isin(['F'])]\n",
    "    df_a = df.loc[df['TipoDoc'].isin(['A'])]\n",
    "    \n",
    "    #fm and am are two empty np arrays in which we are going to store all the collected values \n",
    "    #for each month, remember that each one of our excel iterations is one month\n",
    "    fm = empty_array\n",
    "    am = empty_array\n",
    "\n",
    "    \n",
    "    #line 12 is the one with the quantities related to each document\n",
    "    fm = np.append(fm,df_f['Importe'])\n",
    "    am = np.append(am,df_a['Importe'])\n",
    "    \n",
    "    \n",
    "    #finally sum all the quantities for each month in our \n",
    "    #QUANTITY arrays:\n",
    "    pmf = np.append(pmf,fm.sum())\n",
    "    pma = np.append(pma,am.sum())\n",
    "    print(\"esto funciona\")"
   ]
  },
  {
   "cell_type": "markdown",
   "metadata": {},
   "source": [
    "So we see a similar behaviour for both variables , total quantity of metres and its actual price."
   ]
  },
  {
   "cell_type": "code",
   "execution_count": 28,
   "metadata": {},
   "outputs": [
    {
     "data": {
      "text/plain": [
       "[<matplotlib.lines.Line2D at 0x235d4f29df0>]"
      ]
     },
     "execution_count": 28,
     "metadata": {},
     "output_type": "execute_result"
    },
    {
     "data": {
      "image/png": "[encoded data removed]",
      "text/plain": [
       "<Figure size 432x288 with 1 Axes>"
      ]
     },
     "metadata": {
      "needs_background": "light"
     },
     "output_type": "display_data"
    }
   ],
   "source": [
    "pyplot.plot(pmf, 'b', label = 'Metros facturados de producto.')\n",
    "pyplot.plot(abs(pma), '--r', label = 'Metros abonados de vuelta.')"
   ]
  }
 ],
 "metadata": {
  "kernelspec": {
   "display_name": "Python 3",
   "language": "python",
   "name": "python3"
  },
  "language_info": {
   "codemirror_mode": {
    "name": "ipython",
    "version": 3
   },
   "file_extension": ".py",
   "mimetype": "text/x-python",
   "name": "python",
   "nbconvert_exporter": "python",
   "pygments_lexer": "ipython3",
   "version": "3.8.5"
  }
 },
 "nbformat": 4,
 "nbformat_minor": 4
}
