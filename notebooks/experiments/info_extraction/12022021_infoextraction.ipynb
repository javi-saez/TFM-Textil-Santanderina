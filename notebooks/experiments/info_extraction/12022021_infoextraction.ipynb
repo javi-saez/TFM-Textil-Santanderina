{
 "cells": [
  {
   "cell_type": "code",
   "execution_count": 1,
   "metadata": {},
   "outputs": [],
   "source": [
    "import pandas as pd\n",
    "import openpyxl\n",
    "import xlrd\n",
    "import numpy as np\n",
    "import glob\n",
    "import matplotlib.pyplot as plt"
   ]
  },
  {
   "cell_type": "code",
   "execution_count": 3,
   "metadata": {},
   "outputs": [],
   "source": [
    "data = pd.read_excel('C:/Users/Javier/Documents/GIT/Repositories/TFM-Textil-Santanderina/data/raw/ejemplo_datos.xlsx', engine='openpyxl')"
   ]
  },
  {
   "cell_type": "code",
   "execution_count": 4,
   "metadata": {},
   "outputs": [
    {
     "data": {
      "text/plain": [
       "0        5.0\n",
       "1        5.0\n",
       "2        1.0\n",
       "3        1.0\n",
       "4        1.0\n",
       "       ...  \n",
       "412    624.8\n",
       "413    624.8\n",
       "414    624.8\n",
       "415    624.8\n",
       "416    624.8\n",
       "Name: Cantidad, Length: 417, dtype: float64"
      ]
     },
     "execution_count": 4,
     "metadata": {},
     "output_type": "execute_result"
    }
   ],
   "source": [
    "#the twelveth column is our quantity\n",
    "data.iloc[:,12]"
   ]
  },
  {
   "cell_type": "code",
   "execution_count": 5,
   "metadata": {},
   "outputs": [
    {
     "data": {
      "text/plain": [
       "0      F\n",
       "1      F\n",
       "2      F\n",
       "3      F\n",
       "4      F\n",
       "      ..\n",
       "412    F\n",
       "413    F\n",
       "414    F\n",
       "415    F\n",
       "416    F\n",
       "Name: TipoDoc, Length: 417, dtype: object"
      ]
     },
     "execution_count": 5,
     "metadata": {},
     "output_type": "execute_result"
    }
   ],
   "source": [
    "#the first one is the type of document\n",
    "d = data.iloc[:,0]\n",
    "d"
   ]
  },
  {
   "cell_type": "markdown",
   "metadata": {},
   "source": [
    "**We want to know in time the evolution of the total quantity of metres sold and refund to our petitioners (other businesses).**"
   ]
  },
  {
   "cell_type": "code",
   "execution_count": 6,
   "metadata": {},
   "outputs": [
    {
     "name": "stdout",
     "output_type": "stream",
     "text": [
      "esto funciona\n",
      "esto funciona\n",
      "esto funciona\n",
      "esto funciona\n",
      "esto funciona\n",
      "esto funciona\n",
      "esto funciona\n",
      "esto funciona\n",
      "esto funciona\n",
      "esto funciona\n",
      "esto funciona\n",
      "esto funciona\n",
      "esto funciona\n",
      "esto funciona\n",
      "esto funciona\n",
      "esto funciona\n",
      "esto funciona\n",
      "esto funciona\n",
      "esto funciona\n",
      "esto funciona\n",
      "esto funciona\n",
      "esto funciona\n",
      "esto funciona\n",
      "esto funciona\n",
      "esto funciona\n",
      "esto funciona\n",
      "esto funciona\n",
      "esto funciona\n",
      "esto funciona\n",
      "esto funciona\n",
      "esto funciona\n",
      "esto funciona\n",
      "esto funciona\n",
      "esto funciona\n",
      "esto funciona\n",
      "esto funciona\n",
      "esto funciona\n",
      "esto funciona\n",
      "esto funciona\n",
      "esto funciona\n",
      "esto funciona\n",
      "esto funciona\n",
      "esto funciona\n",
      "esto funciona\n",
      "esto funciona\n",
      "esto funciona\n",
      "esto funciona\n",
      "esto funciona\n",
      "esto funciona\n",
      "esto funciona\n",
      "esto funciona\n",
      "esto funciona\n",
      "esto funciona\n",
      "esto funciona\n",
      "esto funciona\n",
      "esto funciona\n",
      "esto funciona\n",
      "esto funciona\n",
      "esto funciona\n",
      "esto funciona\n"
     ]
    }
   ],
   "source": [
    "#before initializing this loop we want to explain which\n",
    "#qmf is an np.array which will contain the sum for each month \n",
    "# the cumulative sum of all the metres sold to other businesses:\n",
    "qmf = np.empty(0)\n",
    "#qma is similar to qmf but being the cumulative sum of all the metres returned\n",
    "#by any reason by the customers\n",
    "qma = np.empty(0)\n",
    "\n",
    "#our constants...\n",
    "#excels in our repositorie:\n",
    "tablas20_ = glob.glob(\"C:/Users/Javier/Documents/GIT/Repositories/TFM-Textil-Santanderina/data/raw/20*.xlsx\")\n",
    "#empty arrays:\n",
    "empty_array = np.empty(0)\n",
    "\n",
    "\n",
    "for f in tablas20_:\n",
    "    #for each f, we have one excel table as a pd.dataframe(df_i)\n",
    "    df = pd.read_excel(f, engine='openpyxl')\n",
    "    \n",
    "    #we create subsets of the data we are interested in\n",
    "    #being F the type of document when we sell a quantity of metres\n",
    "    # and being A when we have a refund for a product return\n",
    "    df_f = df.loc[df['TipoDoc'].isin(['F'])]\n",
    "    df_a = df.loc[df['TipoDoc'].isin(['A'])]\n",
    "    \n",
    "    #fm and am are two empty np arrays in which we are going to store all the collected values \n",
    "    #for each month, remember that each one of our excel iterations is one month\n",
    "    fm = empty_array\n",
    "    am = empty_array\n",
    "\n",
    "    \n",
    "    #line 12 is the one with the quantities related to each document\n",
    "    fm = np.append(fm,df_f.iloc[:,12])\n",
    "    am = np.append(am,df_a.iloc[:,12])\n",
    "    \n",
    "    \n",
    "    #finally sum all the quantities for each month in our \n",
    "    #QUANTITY arrays:\n",
    "    qmf = np.append(qmf,fm.sum())\n",
    "    qma = np.append(qma,am.sum())\n",
    "    print(\"esto funciona\")"
   ]
  },
  {
   "cell_type": "code",
   "execution_count": 7,
   "metadata": {},
   "outputs": [],
   "source": [
    "from matplotlib import pyplot"
   ]
  },
  {
   "cell_type": "code",
   "execution_count": 8,
   "metadata": {},
   "outputs": [
    {
     "data": {
      "text/plain": [
       "[<matplotlib.lines.Line2D at 0x1fbfdfe86d0>]"
      ]
     },
     "execution_count": 8,
     "metadata": {},
     "output_type": "execute_result"
    },
    {
     "data": {
      "image/png": "[encoded data removed]",
      "text/plain": [
       "<Figure size 432x288 with 1 Axes>"
      ]
     },
     "metadata": {
      "needs_background": "light"
     },
     "output_type": "display_data"
    }
   ],
   "source": [
    "pyplot.plot(qmf, 'b', label = 'Metros facturados de producto.')\n",
    "pyplot.plot(abs(qma), '--r', label = 'Metros abonados de vuelta.')"
   ]
  },
  {
   "cell_type": "code",
   "execution_count": 9,
   "metadata": {},
   "outputs": [
    {
     "data": {
      "text/plain": [
       "[<matplotlib.lines.Line2D at 0x1fb814f5610>]"
      ]
     },
     "execution_count": 9,
     "metadata": {},
     "output_type": "execute_result"
    },
    {
     "data": {
      "image/png": "[encoded data removed]",
      "text/plain": [
       "<Figure size 432x288 with 1 Axes>"
      ]
     },
     "metadata": {
      "needs_background": "light"
     },
     "output_type": "display_data"
    }
   ],
   "source": [
    "pyplot.plot(abs(qma), '--r', label = 'Metros abonados de vuelta.')"
   ]
  },
  {
   "cell_type": "code",
   "execution_count": 40,
   "metadata": {},
   "outputs": [],
   "source": [
    "n_months = np.array(range(1,13))"
   ]
  },
  {
   "cell_type": "code",
   "execution_count": 24,
   "metadata": {
    "scrolled": true
   },
   "outputs": [
    {
     "data": {
      "text/plain": [
       "array([ 1,  2,  3,  4,  5,  6,  7,  8,  9, 10, 11, 12,  1,  2,  3,  4,  5,\n",
       "        6,  7,  8,  9, 10, 11, 12,  1,  2,  3,  4,  5,  6,  7,  8,  9, 10,\n",
       "       11, 12,  1,  2,  3,  4,  5,  6,  7,  8,  9, 10, 11, 12,  1,  2,  3,\n",
       "        4,  5,  6,  7,  8,  9, 10, 11, 12])"
      ]
     },
     "execution_count": 24,
     "metadata": {},
     "output_type": "execute_result"
    }
   ],
   "source": [
    "months = np.tile(n_months, 5)\n",
    "months"
   ]
  },
  {
   "cell_type": "code",
   "execution_count": 54,
   "metadata": {},
   "outputs": [],
   "source": [
    "quantity_pd = pd.DataFrame({'Quantity_mtrs': qmf, 'Months' : months})"
   ]
  },
  {
   "cell_type": "code",
   "execution_count": 44,
   "metadata": {},
   "outputs": [],
   "source": [
    "from sklearn.linear_model import LinearRegression"
   ]
  },
  {
   "cell_type": "code",
   "execution_count": 59,
   "metadata": {},
   "outputs": [],
   "source": [
    "y = quantity_pd.Quantity_mtrs"
   ]
  },
  {
   "cell_type": "code",
   "execution_count": 60,
   "metadata": {},
   "outputs": [
    {
     "data": {
      "text/plain": [
       "(60, 1)"
      ]
     },
     "execution_count": 60,
     "metadata": {},
     "output_type": "execute_result"
    }
   ],
   "source": [
    "y = y.values.reshape(-1,1)\n",
    "y.shape"
   ]
  },
  {
   "cell_type": "code",
   "execution_count": 61,
   "metadata": {},
   "outputs": [],
   "source": [
    "x = quantity_pd.Months"
   ]
  },
  {
   "cell_type": "code",
   "execution_count": 62,
   "metadata": {},
   "outputs": [
    {
     "data": {
      "text/plain": [
       "(60, 1)"
      ]
     },
     "execution_count": 62,
     "metadata": {},
     "output_type": "execute_result"
    }
   ],
   "source": [
    "x = x.values.reshape(-1,1)\n",
    "x.shape"
   ]
  },
  {
   "cell_type": "code",
   "execution_count": 63,
   "metadata": {},
   "outputs": [],
   "source": [
    "model = LinearRegression()"
   ]
  },
  {
   "cell_type": "code",
   "execution_count": 65,
   "metadata": {},
   "outputs": [],
   "source": [
    "model = LinearRegression().fit(x,y)"
   ]
  },
  {
   "cell_type": "code",
   "execution_count": 67,
   "metadata": {
    "scrolled": true
   },
   "outputs": [
    {
     "name": "stdout",
     "output_type": "stream",
     "text": [
      "coefficient of determination: 0.13351618852527802\n"
     ]
    }
   ],
   "source": [
    "r_sq = model.score(x, y)\n",
    "print('coefficient of determination:', r_sq)"
   ]
  },
  {
   "cell_type": "markdown",
   "metadata": {},
   "source": [
    "Now let's try to obtain the $R^2$ to our refunds:"
   ]
  },
  {
   "cell_type": "code",
   "execution_count": 73,
   "metadata": {},
   "outputs": [],
   "source": [
    "refund_pd = pd.DataFrame({'Refund_mtrs': qma, 'Months' : months})"
   ]
  },
  {
   "cell_type": "code",
   "execution_count": 78,
   "metadata": {},
   "outputs": [
    {
     "data": {
      "text/plain": [
       "(60, 1)"
      ]
     },
     "execution_count": 78,
     "metadata": {},
     "output_type": "execute_result"
    }
   ],
   "source": [
    "y = refund_pd.Refund_mtrs\n",
    "y = y.values.reshape(-1,1)\n",
    "y.shape"
   ]
  },
  {
   "cell_type": "code",
   "execution_count": 79,
   "metadata": {},
   "outputs": [
    {
     "data": {
      "text/plain": [
       "(60, 1)"
      ]
     },
     "execution_count": 79,
     "metadata": {},
     "output_type": "execute_result"
    }
   ],
   "source": [
    "x = refund_pd.Months\n",
    "x = x.values.reshape(-1,1)\n",
    "x.shape"
   ]
  },
  {
   "cell_type": "code",
   "execution_count": 80,
   "metadata": {},
   "outputs": [],
   "source": [
    "model = LinearRegression()"
   ]
  },
  {
   "cell_type": "code",
   "execution_count": 81,
   "metadata": {},
   "outputs": [
    {
     "name": "stdout",
     "output_type": "stream",
     "text": [
      "coefficient of determination: 0.00016594337897957168\n"
     ]
    }
   ],
   "source": [
    "model = LinearRegression().fit(x,y)\n",
    "r_sq = model.score(x, y)\n",
    "print('coefficient of determination:', r_sq)"
   ]
  },
  {
   "cell_type": "markdown",
   "metadata": {},
   "source": [
    "Note the cycical componente we can observe in the total sold metres of product, being ist worts downshift around summer, in the refund we observe a constant line with exceptions in the peaks of  the production. We see a considerable decresase during the last year 2019 in our total quantities sold, but as we said, the refund metres quantity stay unchanged."
   ]
  },
  {
   "cell_type": "markdown",
   "metadata": {},
   "source": [
    "**Also, it will be interesting to ask ourselves if that decresaded in our sells means less income to the firm. Let's focus now on the monthly time series of our incomes and refunds (in $€$)**"
   ]
  },
  {
   "cell_type": "code",
   "execution_count": null,
   "metadata": {},
   "outputs": [],
   "source": [
    "#before initializing this loop we want to explain which\n",
    "#pmf is a numpy array which will contain the sum for each month \n",
    "# the cumulative sum of all the money billed (in euros) to other businesses:\n",
    "pmf = np.empty(0)\n",
    "#pma is like pmf but being the cumulative refund made to the customers (in €) returned\n",
    "#by any reason by the customers\n",
    "pma = np.empty(0)\n",
    "\n",
    "#our constants...\n",
    "#excels in our repositorie:\n",
    "tablas20_ = glob.glob(\"C:/Users/Javier/Documents/GIT/Repositories/TFM-Textil-Santanderina/data/raw/20*.xlsx\")\n",
    "#empty arrays:\n",
    "empty_array = np.empty(0)\n",
    "\n",
    "\n",
    "for f in tablas20_:\n",
    "    #for each f, we have one excel table as a pd.dataframe(df_i)\n",
    "    df = pd.read_excel(f, engine='openpyxl')\n",
    "    \n",
    "    #we create subsets of the data we are interested in\n",
    "    #being F the type of document when we sell a quantity of metres\n",
    "    # and being A when we have a refund for a product return\n",
    "    df_f = df.loc[df['TipoDoc'].isin(['F'])]\n",
    "    df_a = df.loc[df['TipoDoc'].isin(['A'])]\n",
    "    \n",
    "    #fm and am are two empty np arrays in which we are going to store all the collected values \n",
    "    #for each month, remember that each one of our excel iterations is one month\n",
    "    fm = empty_array\n",
    "    am = empty_array\n",
    "\n",
    "    \n",
    "    #'Importe' is the name of the column when we have the quantity in euros for each document line\n",
    "    #remember that 'F' means that the line is a bill(order line), and 'A' that is a refund line (both in euros):\n",
    "    fm = np.append(fm,df_f['Importe'])\n",
    "    am = np.append(am,df_a['Importe'])\n",
    "    \n",
    "    \n",
    "    #finally sum all the quantities for each month in our \n",
    "    #QUANTITY arrays:\n",
    "    pmf = np.append(pmf,fm.sum())\n",
    "    pma = np.append(pma,am.sum())\n",
    "    print(\"esto funciona\")"
   ]
  },
  {
   "cell_type": "markdown",
   "metadata": {},
   "source": [
    "So we see a similar behaviour for both variables , total quantity of metres and its actual price."
   ]
  },
  {
   "cell_type": "code",
   "execution_count": null,
   "metadata": {},
   "outputs": [],
   "source": [
    "pyplot.plot(pmf, 'b', label = 'Metros facturados de producto.')\n",
    "pyplot.plot(abs(pma), '--r', label = 'Metros abonados de vuelta.')"
   ]
  },
  {
   "cell_type": "markdown",
   "metadata": {},
   "source": [
    "**Important thinks to note:**\n",
    "1. We observe a cyclical component in both quantities, metres product and its value when we talk about sells, therefore we can tidy the column 'Fecha' and keep only the month in order to use it as a dimension for our model.\n",
    "\n",
    "2. In both cases (metres and euros) the refunds are almost constant among time, this could be useful to get relations with out getting bias because of the business cycle. So could make use of it to analyze how likelable is an order to be refund in a future."
   ]
  },
  {
   "cell_type": "code",
   "execution_count": null,
   "metadata": {},
   "outputs": [],
   "source": []
  }
 ],
 "metadata": {
  "kernelspec": {
   "display_name": "Python 3",
   "language": "python",
   "name": "python3"
  },
  "language_info": {
   "codemirror_mode": {
    "name": "ipython",
    "version": 3
   },
   "file_extension": ".py",
   "mimetype": "text/x-python",
   "name": "python",
   "nbconvert_exporter": "python",
   "pygments_lexer": "ipython3",
   "version": "3.8.5"
  }
 },
 "nbformat": 4,
 "nbformat_minor": 4
}
