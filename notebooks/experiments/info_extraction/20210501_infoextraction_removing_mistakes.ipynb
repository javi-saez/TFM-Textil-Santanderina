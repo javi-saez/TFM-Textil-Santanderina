{
 "cells": [
  {
   "cell_type": "code",
   "execution_count": 1,
   "metadata": {},
   "outputs": [],
   "source": [
    "import pandas as pd\n",
    "import openpyxl\n",
    "import xlrd\n",
    "import numpy as np\n",
    "from numpy import nan\n",
    "import glob\n",
    "import datetime\n",
    "from math import cos, sin, pi "
   ]
  },
  {
   "cell_type": "code",
   "execution_count": 2,
   "metadata": {},
   "outputs": [],
   "source": [
    "\n",
    "## we want no cientific notation numbers:\n",
    "np.set_printoptions(suppress=True)"
   ]
  },
  {
   "cell_type": "code",
   "execution_count": 3,
   "metadata": {},
   "outputs": [],
   "source": [
    "\n",
    "def df_monthly_total_production(list_directories):\n",
    "    \n",
    "    ##Here we define all our empty arrays determined to be our future features:\n",
    "    seasonability_1 = np.empty(0)\n",
    "    seasonability_2 = np.empty(0)\n",
    "    \n",
    "    pmf = np.empty(0)\n",
    "    empty_array = np.empty(0)\n",
    "    \n",
    "    trend = np.empty(0)\n",
    "\n",
    "    number_months = range(1,13)\n",
    "    \n",
    "    for year in list_directories:\n",
    "        for data in year:\n",
    "                ## we open each year and then each excel related to each month:\n",
    "                df = pd.read_excel(data, engine='openpyxl')\n",
    "                fm = empty_array\n",
    "                \n",
    "                ## we filter only the bill lines which are commercial invices (values 'F' of the 'TipoDoc' Column):\n",
    "                df_f = df.loc[df['TipoDoc'].isin(['F'])]\n",
    "                \n",
    "                ## we filter the date info inside the fecha column:\n",
    "                df['year'] = pd.DatetimeIndex(df['Fecha']).year\n",
    "                df['month'] = pd.DatetimeIndex(df['Fecha']).month\n",
    "                \n",
    "                ## in order to know when a line is part of the same bill we stablished that the value for a row\n",
    "                ## in the column 'Linea Doc' it has to be different in the next row when they share the same value in \n",
    "                ## the column 'Documento' (ID number of the document), that's why we use the pandas command shift:\n",
    "                df['siguiente_linea'] = df['LineaDoc'].shift(-1)\n",
    "                df['siguiente_doc'] = df['Documento'].shift(-1)\n",
    "\n",
    "                ## now in the last row we will have a NaN value, we should change that:\n",
    "                df.loc[np.isnan(df[\"siguiente_linea\"]), 'siguiente_linea'] = df['LineaDoc'][-1:]\n",
    "                df.loc[np.isnan(df[\"siguiente_doc\"]), 'siguiente_doc'] = df['Documento'][-1:]\n",
    "                \n",
    "                df['siguiente_linea'] = df['siguiente_linea'].astype('int64')\n",
    "                df['siguiente_doc'] = df['siguiente_doc'].astype('int64')\n",
    "                \n",
    "                ## let's try to use the pandas' command .drop() in order to implement the mentioned restriction:\n",
    "                df = df.drop(df[(df['Documento'] == df['siguiente_doc']) & (df['LineaDoc'] == df['siguiente_linea'])].index)\n",
    "                \n",
    "                ## we sum up the value of the left rows (commercial invoices), which is the value related to the column 'Importe':\n",
    "                fm = df['Importe'].sum()\n",
    "                \n",
    "                ## we append to the general array the result of the fourth weeks of the loaded month:\n",
    "                pmf = np.append(pmf, fm)\n",
    "\n",
    "        ## we store the trend info (passage of time):\n",
    "        ## we store the year:\n",
    "        for month in number_months:\n",
    "            y = df['year'][-1:]\n",
    "            trd = y + (month - 1)/12\n",
    "\n",
    "            ## then we store this trend number into an array:\n",
    "            trend = np.append(trend, trd)\n",
    "            \n",
    "            ## we save the information of the month:\n",
    "            dt_circ_base = (month/12)*2*pi # entre 0 y 2*pi\n",
    "            features_dt_circ = [cos(dt_circ_base), sin(dt_circ_base)] # 2 valores, a rellenar en 2 columnas de features\n",
    "            \n",
    "            ## we store the info of the cos:\n",
    "            seasonability_1 = np.append(seasonability_1, features_dt_circ[0])\n",
    "\n",
    "            ## and the info  of the sin:\n",
    "            seasonability_2 = np.append(seasonability_2, features_dt_circ[1])\n",
    "                      \n",
    "    ##here after the iterations are done we store the arrays generated:\n",
    "    yTrain = pd.DataFrame({'target':pmf})\n",
    "    \n",
    "    xTrain = pd.DataFrame({'seasonability_circ_cos':seasonability_1,'seasonability_circ_sin':seasonability_2, 'time':trend, 'y_t-1':yTrain.target.shift(1)})\n",
    "    return yTrain, xTrain\n"
   ]
  },
  {
   "cell_type": "code",
   "execution_count": 23,
   "metadata": {},
   "outputs": [],
   "source": [
    "tablas20_1 = glob.glob(\"C:/Users/Javier/Documents/GIT/Repositories/TFM-Textil-Santanderina/data/raw/2015*.xlsx\")\n",
    "tablas20_2 = glob.glob(\"C:/Users/Javier/Documents/GIT/Repositories/TFM-Textil-Santanderina/data/raw/2016*.xlsx\")\n",
    "tablas20_3 = glob.glob(\"C:/Users/Javier/Documents/GIT/Repositories/TFM-Textil-Santanderina/data/raw/2017*.xlsx\")\n",
    "tablas20_4 = glob.glob(\"C:/Users/Javier/Documents/GIT/Repositories/TFM-Textil-Santanderina/data/raw/2018*.xlsx\")\n",
    "tablas20_5 = glob.glob(\"C:/Users/Javier/Documents/GIT/Repositories/TFM-Textil-Santanderina/data/raw/2019*.xlsx\")\n",
    "tablas20_all = list([tablas20_1,tablas20_2,tablas20_3, tablas20_4, tablas20_5])"
   ]
  },
  {
   "cell_type": "code",
   "execution_count": 24,
   "metadata": {},
   "outputs": [],
   "source": [
    "y, x = df_monthly_total_production(tablas20_all)"
   ]
  },
  {
   "cell_type": "code",
   "execution_count": 39,
   "metadata": {},
   "outputs": [
    {
     "data": {
      "text/plain": [
       "target    85295382.91\n",
       "dtype: float64"
      ]
     },
     "execution_count": 39,
     "metadata": {},
     "output_type": "execute_result"
    }
   ],
   "source": [
    "y[-24:-12].sum()"
   ]
  }
 ],
 "metadata": {
  "kernelspec": {
   "display_name": "Python 3",
   "language": "python",
   "name": "python3"
  },
  "language_info": {
   "codemirror_mode": {
    "name": "ipython",
    "version": 3
   },
   "file_extension": ".py",
   "mimetype": "text/x-python",
   "name": "python",
   "nbconvert_exporter": "python",
   "pygments_lexer": "ipython3",
   "version": "3.8.5"
  }
 },
 "nbformat": 4,
 "nbformat_minor": 4
}
