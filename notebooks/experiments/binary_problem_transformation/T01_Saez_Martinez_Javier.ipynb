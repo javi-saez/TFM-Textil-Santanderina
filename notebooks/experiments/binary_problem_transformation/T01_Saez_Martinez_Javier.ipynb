{
 "cells": [
  {
   "cell_type": "markdown",
   "metadata": {},
   "source": [
    "# Application of Support Vector Machines to classify orders with defected metres in textil B2B industry.\n",
    "\n",
    "### Code and report developed by Javier Sáez for Textil Satanderina.\n",
    "\n",
    "<img src=https://cersantander.com/wp-content/uploads/2014/12/Textil-Santanderina.png width=150 height=50 />"
   ]
  },
  {
   "cell_type": "markdown",
   "metadata": {},
   "source": [
    "## Summary:\n",
    "1. [Creation of our binary variable and the extraction of our data through our databases.](#id1)\n",
    "1. [Data visualization.](#id2)\n",
    "1. [Train/test partition.](#id3)\n",
    "1. [Training our SVM model](#id4)\n",
    "1. [Testing.](#id5)\n",
    "1. [Conclusions.](#id6)"
   ]
  },
  {
   "cell_type": "markdown",
   "metadata": {},
   "source": [
    "## 1. Creation of our binary variable and the extraction of our data through our databases.  <a name=\"id1\"></a>\n",
    "\n",
    "Before perform our data visualization and modeling we should process our data in order to take the information we need."
   ]
  },
  {
   "cell_type": "code",
   "execution_count": 1,
   "metadata": {},
   "outputs": [],
   "source": [
    "#general modules use to implement the SVM technic in this case, then you will be able to see other specific ones\n",
    "#in the individual cell code\n",
    "import pandas as pd\n",
    "import openpyxl\n",
    "import xlrd\n",
    "import numpy as np\n",
    "import glob\n",
    "import matplotlib.pyplot as plt"
   ]
  },
  {
   "cell_type": "markdown",
   "metadata": {},
   "source": [
    "We start opening our example data in order to load the columns in our future data frame ``df_defected_metres``."
   ]
  },
  {
   "cell_type": "code",
   "execution_count": 2,
   "metadata": {},
   "outputs": [],
   "source": [
    "data = pd.read_excel('C:/Users/Javier/Documents/GIT/Repositories/TFM-Textil-Santanderina/data/raw/ejemplo_datos.xlsx', engine='openpyxl')"
   ]
  },
  {
   "cell_type": "markdown",
   "metadata": {},
   "source": [
    "For the shake of completeness we will use a little bit of our time to see how these columns look like, even though we will use only a few of these variables in the SVM techniqe. As we can see there are so many columns which will be not helpful at all in our model, we will pay pay special attention to the family of the article **(GrupoArticulo)**, the quantity **(Cantidad)** produced for satistying the bill **(Factura, 'F')**, the width of the textile porduct **(Ancho)** and the month of the year in which it was produced **(Fecha)**. These features will be part of our $X$ matrix.\n",
    "\n",
    "Finally, as you could see in our last column we have the quantity of Defected Metres **(Metrosdefecutosos)** for each bill, we want to discretize it in order to become our binary $y$ column vector.\n",
    "\n",
    "        Note that we could take into account other variables, but kernek techniques doesn't work that good with high-dimensional data. Also note that we printed three diferent tables of 11 columns due to the fact that we have "
   ]
  },
  {
   "cell_type": "code",
   "execution_count": 3,
   "metadata": {},
   "outputs": [
    {
     "data": {
      "text/html": [
       "<div>\n",
       "<style scoped>\n",
       "    .dataframe tbody tr th:only-of-type {\n",
       "        vertical-align: middle;\n",
       "    }\n",
       "\n",
       "    .dataframe tbody tr th {\n",
       "        vertical-align: top;\n",
       "    }\n",
       "\n",
       "    .dataframe thead th {\n",
       "        text-align: right;\n",
       "    }\n",
       "</style>\n",
       "<table border=\"1\" class=\"dataframe\">\n",
       "  <thead>\n",
       "    <tr style=\"text-align: right;\">\n",
       "      <th></th>\n",
       "      <th>TipoDoc</th>\n",
       "      <th>Documento</th>\n",
       "      <th>LineaDoc</th>\n",
       "      <th>Factura</th>\n",
       "      <th>LineaFra</th>\n",
       "      <th>Fecha</th>\n",
       "      <th>Cliente</th>\n",
       "      <th>PaisCliente</th>\n",
       "      <th>PaisDestino</th>\n",
       "      <th>Departamento</th>\n",
       "      <th>TipoOperacion</th>\n",
       "    </tr>\n",
       "  </thead>\n",
       "  <tbody>\n",
       "    <tr>\n",
       "      <th>0</th>\n",
       "      <td>F</td>\n",
       "      <td>657453</td>\n",
       "      <td>1</td>\n",
       "      <td>657453</td>\n",
       "      <td>1</td>\n",
       "      <td>2020-01-24 00:00:00.000</td>\n",
       "      <td>999544</td>\n",
       "      <td>TN</td>\n",
       "      <td>TN</td>\n",
       "      <td>2</td>\n",
       "      <td>Venta</td>\n",
       "    </tr>\n",
       "    <tr>\n",
       "      <th>1</th>\n",
       "      <td>F</td>\n",
       "      <td>657454</td>\n",
       "      <td>1</td>\n",
       "      <td>657454</td>\n",
       "      <td>1</td>\n",
       "      <td>2020-01-24 00:00:00.000</td>\n",
       "      <td>999663</td>\n",
       "      <td>NL</td>\n",
       "      <td>PT</td>\n",
       "      <td>2</td>\n",
       "      <td>Venta</td>\n",
       "    </tr>\n",
       "    <tr>\n",
       "      <th>2</th>\n",
       "      <td>F</td>\n",
       "      <td>657455</td>\n",
       "      <td>1</td>\n",
       "      <td>657455</td>\n",
       "      <td>1</td>\n",
       "      <td>2020-01-24 00:00:00.000</td>\n",
       "      <td>999984</td>\n",
       "      <td>DE</td>\n",
       "      <td>DE</td>\n",
       "      <td>3</td>\n",
       "      <td>Venta</td>\n",
       "    </tr>\n",
       "    <tr>\n",
       "      <th>3</th>\n",
       "      <td>F</td>\n",
       "      <td>657455</td>\n",
       "      <td>2</td>\n",
       "      <td>657455</td>\n",
       "      <td>2</td>\n",
       "      <td>2020-01-24 00:00:00.000</td>\n",
       "      <td>999984</td>\n",
       "      <td>DE</td>\n",
       "      <td>DE</td>\n",
       "      <td>3</td>\n",
       "      <td>Venta</td>\n",
       "    </tr>\n",
       "    <tr>\n",
       "      <th>4</th>\n",
       "      <td>F</td>\n",
       "      <td>657455</td>\n",
       "      <td>3</td>\n",
       "      <td>657455</td>\n",
       "      <td>3</td>\n",
       "      <td>2020-01-24 00:00:00.000</td>\n",
       "      <td>999984</td>\n",
       "      <td>DE</td>\n",
       "      <td>DE</td>\n",
       "      <td>3</td>\n",
       "      <td>Venta</td>\n",
       "    </tr>\n",
       "  </tbody>\n",
       "</table>\n",
       "</div>"
      ],
      "text/plain": [
       "  TipoDoc  Documento  LineaDoc  Factura  LineaFra                    Fecha  \\\n",
       "0       F     657453         1   657453         1  2020-01-24 00:00:00.000   \n",
       "1       F     657454         1   657454         1  2020-01-24 00:00:00.000   \n",
       "2       F     657455         1   657455         1  2020-01-24 00:00:00.000   \n",
       "3       F     657455         2   657455         2  2020-01-24 00:00:00.000   \n",
       "4       F     657455         3   657455         3  2020-01-24 00:00:00.000   \n",
       "\n",
       "   Cliente PaisCliente PaisDestino  Departamento TipoOperacion  \n",
       "0   999544          TN          TN             2         Venta  \n",
       "1   999663          NL          PT             2         Venta  \n",
       "2   999984          DE          DE             3         Venta  \n",
       "3   999984          DE          DE             3         Venta  \n",
       "4   999984          DE          DE             3         Venta  "
      ]
     },
     "execution_count": 3,
     "metadata": {},
     "output_type": "execute_result"
    }
   ],
   "source": [
    "data.iloc[:,0:11].head()"
   ]
  },
  {
   "cell_type": "code",
   "execution_count": 4,
   "metadata": {},
   "outputs": [
    {
     "data": {
      "text/html": [
       "<div>\n",
       "<style scoped>\n",
       "    .dataframe tbody tr th:only-of-type {\n",
       "        vertical-align: middle;\n",
       "    }\n",
       "\n",
       "    .dataframe tbody tr th {\n",
       "        vertical-align: top;\n",
       "    }\n",
       "\n",
       "    .dataframe thead th {\n",
       "        text-align: right;\n",
       "    }\n",
       "</style>\n",
       "<table border=\"1\" class=\"dataframe\">\n",
       "  <thead>\n",
       "    <tr style=\"text-align: right;\">\n",
       "      <th></th>\n",
       "      <th>AfectaCantidad</th>\n",
       "      <th>Cantidad</th>\n",
       "      <th>Unidad</th>\n",
       "      <th>Precio</th>\n",
       "      <th>Moneda</th>\n",
       "      <th>Cambio</th>\n",
       "      <th>Importe</th>\n",
       "      <th>CodigoArticulo</th>\n",
       "      <th>GrupoArticulo</th>\n",
       "      <th>Serie</th>\n",
       "      <th>Acabado</th>\n",
       "    </tr>\n",
       "  </thead>\n",
       "  <tbody>\n",
       "    <tr>\n",
       "      <th>0</th>\n",
       "      <td>1</td>\n",
       "      <td>5.0</td>\n",
       "      <td>Metros</td>\n",
       "      <td>0.0</td>\n",
       "      <td>EURO</td>\n",
       "      <td>1</td>\n",
       "      <td>0.0</td>\n",
       "      <td>114721</td>\n",
       "      <td>3</td>\n",
       "      <td>4421</td>\n",
       "      <td>2568</td>\n",
       "    </tr>\n",
       "    <tr>\n",
       "      <th>1</th>\n",
       "      <td>1</td>\n",
       "      <td>5.0</td>\n",
       "      <td>Metros</td>\n",
       "      <td>0.0</td>\n",
       "      <td>EURO</td>\n",
       "      <td>1</td>\n",
       "      <td>0.0</td>\n",
       "      <td>166468</td>\n",
       "      <td>2</td>\n",
       "      <td>40264</td>\n",
       "      <td>2783</td>\n",
       "    </tr>\n",
       "    <tr>\n",
       "      <th>2</th>\n",
       "      <td>1</td>\n",
       "      <td>1.0</td>\n",
       "      <td>Metros</td>\n",
       "      <td>0.0</td>\n",
       "      <td>EURO</td>\n",
       "      <td>1</td>\n",
       "      <td>0.0</td>\n",
       "      <td>164389</td>\n",
       "      <td>4</td>\n",
       "      <td>162835</td>\n",
       "      <td>0</td>\n",
       "    </tr>\n",
       "    <tr>\n",
       "      <th>3</th>\n",
       "      <td>1</td>\n",
       "      <td>1.0</td>\n",
       "      <td>Metros</td>\n",
       "      <td>0.0</td>\n",
       "      <td>EURO</td>\n",
       "      <td>1</td>\n",
       "      <td>0.0</td>\n",
       "      <td>165445</td>\n",
       "      <td>4</td>\n",
       "      <td>162835</td>\n",
       "      <td>0</td>\n",
       "    </tr>\n",
       "    <tr>\n",
       "      <th>4</th>\n",
       "      <td>1</td>\n",
       "      <td>1.0</td>\n",
       "      <td>Metros</td>\n",
       "      <td>0.0</td>\n",
       "      <td>EURO</td>\n",
       "      <td>1</td>\n",
       "      <td>0.0</td>\n",
       "      <td>165446</td>\n",
       "      <td>4</td>\n",
       "      <td>162835</td>\n",
       "      <td>0</td>\n",
       "    </tr>\n",
       "  </tbody>\n",
       "</table>\n",
       "</div>"
      ],
      "text/plain": [
       "   AfectaCantidad  Cantidad  Unidad  Precio Moneda  Cambio  Importe  \\\n",
       "0               1       5.0  Metros     0.0   EURO       1      0.0   \n",
       "1               1       5.0  Metros     0.0   EURO       1      0.0   \n",
       "2               1       1.0  Metros     0.0   EURO       1      0.0   \n",
       "3               1       1.0  Metros     0.0   EURO       1      0.0   \n",
       "4               1       1.0  Metros     0.0   EURO       1      0.0   \n",
       "\n",
       "   CodigoArticulo  GrupoArticulo   Serie  Acabado  \n",
       "0          114721              3    4421     2568  \n",
       "1          166468              2   40264     2783  \n",
       "2          164389              4  162835        0  \n",
       "3          165445              4  162835        0  \n",
       "4          165446              4  162835        0  "
      ]
     },
     "execution_count": 4,
     "metadata": {},
     "output_type": "execute_result"
    }
   ],
   "source": [
    "data.iloc[:,11:22].head()"
   ]
  },
  {
   "cell_type": "code",
   "execution_count": 5,
   "metadata": {
    "scrolled": true
   },
   "outputs": [
    {
     "data": {
      "text/html": [
       "<div>\n",
       "<style scoped>\n",
       "    .dataframe tbody tr th:only-of-type {\n",
       "        vertical-align: middle;\n",
       "    }\n",
       "\n",
       "    .dataframe tbody tr th {\n",
       "        vertical-align: top;\n",
       "    }\n",
       "\n",
       "    .dataframe thead th {\n",
       "        text-align: right;\n",
       "    }\n",
       "</style>\n",
       "<table border=\"1\" class=\"dataframe\">\n",
       "  <thead>\n",
       "    <tr style=\"text-align: right;\">\n",
       "      <th></th>\n",
       "      <th>Combinacion</th>\n",
       "      <th>Color</th>\n",
       "      <th>Ancho</th>\n",
       "      <th>CN8</th>\n",
       "      <th>Composicion</th>\n",
       "      <th>Lote</th>\n",
       "      <th>Pieza</th>\n",
       "      <th>MetroPieza</th>\n",
       "      <th>MetrosReducidos</th>\n",
       "    </tr>\n",
       "  </thead>\n",
       "  <tbody>\n",
       "    <tr>\n",
       "      <th>0</th>\n",
       "      <td>0</td>\n",
       "      <td>0</td>\n",
       "      <td>145</td>\n",
       "      <td>58012200</td>\n",
       "      <td>1151</td>\n",
       "      <td>50-0404 / 001 R 01      2 2019</td>\n",
       "      <td>31</td>\n",
       "      <td>5.0</td>\n",
       "      <td>5.0</td>\n",
       "    </tr>\n",
       "    <tr>\n",
       "      <th>1</th>\n",
       "      <td>0</td>\n",
       "      <td>8196</td>\n",
       "      <td>145</td>\n",
       "      <td>52094900</td>\n",
       "      <td>1151</td>\n",
       "      <td>11-2193 / 000           4 2019</td>\n",
       "      <td>6</td>\n",
       "      <td>5.0</td>\n",
       "      <td>5.0</td>\n",
       "    </tr>\n",
       "    <tr>\n",
       "      <th>2</th>\n",
       "      <td>0</td>\n",
       "      <td>45531</td>\n",
       "      <td>160</td>\n",
       "      <td>55142200</td>\n",
       "      <td>3743</td>\n",
       "      <td>35-0121 / 001           2 2019</td>\n",
       "      <td>19</td>\n",
       "      <td>1.0</td>\n",
       "      <td>1.0</td>\n",
       "    </tr>\n",
       "    <tr>\n",
       "      <th>3</th>\n",
       "      <td>0</td>\n",
       "      <td>65141</td>\n",
       "      <td>160</td>\n",
       "      <td>55142200</td>\n",
       "      <td>3743</td>\n",
       "      <td>48-0114 / 001           2 2019</td>\n",
       "      <td>10</td>\n",
       "      <td>1.0</td>\n",
       "      <td>1.0</td>\n",
       "    </tr>\n",
       "    <tr>\n",
       "      <th>4</th>\n",
       "      <td>0</td>\n",
       "      <td>78666</td>\n",
       "      <td>160</td>\n",
       "      <td>55142200</td>\n",
       "      <td>3743</td>\n",
       "      <td>35-0123 / 001           2 2019</td>\n",
       "      <td>14</td>\n",
       "      <td>1.0</td>\n",
       "      <td>1.0</td>\n",
       "    </tr>\n",
       "  </tbody>\n",
       "</table>\n",
       "</div>"
      ],
      "text/plain": [
       "   Combinacion  Color  Ancho       CN8  Composicion  \\\n",
       "0            0      0    145  58012200         1151   \n",
       "1            0   8196    145  52094900         1151   \n",
       "2            0  45531    160  55142200         3743   \n",
       "3            0  65141    160  55142200         3743   \n",
       "4            0  78666    160  55142200         3743   \n",
       "\n",
       "                             Lote  Pieza  MetroPieza  MetrosReducidos  \n",
       "0  50-0404 / 001 R 01      2 2019     31         5.0              5.0  \n",
       "1  11-2193 / 000           4 2019      6         5.0              5.0  \n",
       "2  35-0121 / 001           2 2019     19         1.0              1.0  \n",
       "3  48-0114 / 001           2 2019     10         1.0              1.0  \n",
       "4  35-0123 / 001           2 2019     14         1.0              1.0  "
      ]
     },
     "execution_count": 5,
     "metadata": {},
     "output_type": "execute_result"
    }
   ],
   "source": [
    "data.iloc[:,23:32].head()"
   ]
  },
  {
   "cell_type": "markdown",
   "metadata": {},
   "source": [
    "We obtain the info from 12 excels in our local directory for each month of the 2015 business year."
   ]
  },
  {
   "cell_type": "code",
   "execution_count": 6,
   "metadata": {},
   "outputs": [
    {
     "name": "stdout",
     "output_type": "stream",
     "text": [
      "(273, 33)\n",
      "(857, 33)\n",
      "(1647, 33)\n",
      "(2887, 33)\n",
      "(3381, 33)\n",
      "(3802, 33)\n",
      "(3950, 33)\n",
      "(3988, 33)\n",
      "(4323, 33)\n",
      "(4883, 33)\n",
      "(5406, 33)\n",
      "(5473, 33)\n"
     ]
    }
   ],
   "source": [
    "#we load the columns in our empty pandas data frame\n",
    "df_defected_metres = pd.DataFrame(columns=data.columns)\n",
    "#we point all the data related with the 2015 year\n",
    "tablas20_ = glob.glob(\"C:/Users/Javier/Documents/GIT/Repositories/TFM-Textil-Santanderina/data/raw/2015*.xlsx\")\n",
    "\n",
    "\n",
    "for f in tablas20_:\n",
    "    df = pd.read_excel(f, engine='openpyxl')\n",
    "    #only bills('F') documents will have more than 0 in the defected metres column\n",
    "    df_f = df.loc[df['TipoDoc'].isin(['F'])]\n",
    "    #we drop the NaNs\n",
    "    df_f = df_f.dropna()\n",
    "    #we select only the rows (commercial invoices) in which we observe defected metres with the  != logical\n",
    "    df_defects = df_f[df_f['MetrosDefectuosos']!=0]\n",
    "    #finally we append those rows for each month\n",
    "    df_defected_metres =  df_defected_metres.append(df_defects, ignore_index=True)\n",
    "    #this print is just to checked that it works ! be careful if you try this it takes over 5 minutes\n",
    "    print(df_defected_metres.shape)"
   ]
  },
  {
   "cell_type": "markdown",
   "metadata": {},
   "source": [
    "We do the same in this case but adding observations with no deffects, we want 50-50 of each kind."
   ]
  },
  {
   "cell_type": "code",
   "execution_count": 7,
   "metadata": {},
   "outputs": [
    {
     "name": "stdout",
     "output_type": "stream",
     "text": [
      "(5929, 33)\n",
      "(6385, 33)\n",
      "(6841, 33)\n",
      "(7297, 33)\n",
      "(7753, 33)\n",
      "(8209, 33)\n",
      "(8665, 33)\n",
      "(9121, 33)\n",
      "(9577, 33)\n",
      "(10033, 33)\n",
      "(10489, 33)\n",
      "(10945, 33)\n"
     ]
    }
   ],
   "source": [
    "#same process as before\n",
    "tablas20_ = glob.glob(\"C:/Users/Javier/Documents/GIT/Repositories/TFM-Textil-Santanderina/data/raw/2015*.xlsx\")\n",
    "for f in tablas20_:\n",
    "    #same process as before\n",
    "    df = pd.read_excel(f, engine='openpyxl')\n",
    "    df_f = df.loc[df['TipoDoc'].isin(['F'])]\n",
    "    df_f = df_f.dropna()\n",
    "    #now we take the non-defected\n",
    "    df_nodefects = df_f[df_f['MetrosDefectuosos']== 0]\n",
    "    #and we take for each month 456 observations in order to have homogenous sample through time\n",
    "    df_nodefects_random = df_nodefects.sample(n =456)\n",
    "    df_defected_metres =  df_defected_metres.append(df_nodefects_random, ignore_index=True)\n",
    "    #this print is just to checked that it works ! be careful if you try this it takes over 5 minutes\n",
    "    print(df_defected_metres.shape)"
   ]
  },
  {
   "cell_type": "markdown",
   "metadata": {},
   "source": [
    "Finally we create the binary variable, taking 1 as any value bigger than 0."
   ]
  },
  {
   "cell_type": "code",
   "execution_count": 8,
   "metadata": {},
   "outputs": [],
   "source": [
    "#discretizacion de la variable\n",
    "df_defected_metres.loc[df_defected_metres.MetrosDefectuosos > 0,'MetrosDefectuosos'] = 1"
   ]
  },
  {
   "cell_type": "markdown",
   "metadata": {},
   "source": [
    "Also would be interesting as well to obtain only the month from each observation with the intention to use it as a categorical variable when we create our model."
   ]
  },
  {
   "cell_type": "code",
   "execution_count": 9,
   "metadata": {},
   "outputs": [],
   "source": [
    "import datetime\n",
    "year = df_defected_metres[\"Fecha\"]\n",
    "year = pd.to_datetime(year)\n",
    "year = year.dt.month\n",
    "#actually we shouldn't call this column of the data frame 'Fecha' because now it contains months\n",
    "df_defected_metres['Fecha'] = year"
   ]
  },
  {
   "cell_type": "markdown",
   "metadata": {},
   "source": [
    "## 2. Data visualization.<a name=\"id2\"></a>\n",
    "\n",
    "We will see now some plots which will confirm the features we choose for our Machine Learning model.\n",
    "Let's start from the kind of product , we saw we have 12 different families. In the blue barplot we can see the distribution of the bills-lines related with productos with no deffects, and the red bars for the lines which already have deffected metres. \n",
    "\n",
    "At first instance we observe the our second family of fabrics tend to have deffects more than the others (in relation with the metres already produced)."
   ]
  },
  {
   "cell_type": "code",
   "execution_count": 10,
   "metadata": {},
   "outputs": [
    {
     "data": {
      "image/png": "[encoded data removed]",
      "text/plain": [
       "<Figure size 432x288 with 1 Axes>"
      ]
     },
     "metadata": {
      "needs_background": "light"
     },
     "output_type": "display_data"
    }
   ],
   "source": [
    "from matplotlib import pyplot\n",
    "#we create an pd.Dataframe just for  the observations with 0 deffected metres\n",
    "data_0 = df_defected_metres.loc[df_defected_metres['MetrosDefectuosos'] == 0]\n",
    "non_defected = data_0.GrupoArticulo\n",
    "non_defected = non_defected.astype(\"category\")\n",
    "(unicos, cuenta) = np.unique(non_defected, return_counts=True)\n",
    "plot1 = plt.bar(x = unicos, height = cuenta)\n",
    "titulo1 = plt.title(\"Distribución de los metros sin defecto vendidos por familia de productos.\")"
   ]
  },
  {
   "cell_type": "code",
   "execution_count": 11,
   "metadata": {},
   "outputs": [
    {
     "data": {
      "image/png": "[encoded data removed]",
      "text/plain": [
       "<Figure size 432x288 with 1 Axes>"
      ]
     },
     "metadata": {
      "needs_background": "light"
     },
     "output_type": "display_data"
    }
   ],
   "source": [
    "#same with the opposite case\n",
    "data_1 = df_defected_metres.loc[df_defected_metres['MetrosDefectuosos'] == 1]\n",
    "defected = data_1.GrupoArticulo\n",
    "defected = defected.astype(\"category\")\n",
    "(unicos, cuenta) = np.unique(defected, return_counts=True)\n",
    "plot2 = plt.bar(x = unicos, height = cuenta, color = 'red')\n",
    "titulo2 = plt.title(\"Distribución de los pedidos con defectos vendidos por familia de productos.\")"
   ]
  },
  {
   "cell_type": "markdown",
   "metadata": {},
   "source": [
    "Surprisingly, the the order lines which actually have deffected metres have a lower median than the bills which have no deffects, so we see is not a problem about the demanded quantity, at first instance."
   ]
  },
  {
   "cell_type": "code",
   "execution_count": 12,
   "metadata": {},
   "outputs": [
    {
     "data": {
      "image/png": "[encoded data removed]",
      "text/plain": [
       "<Figure size 432x288 with 1 Axes>"
      ]
     },
     "metadata": {
      "needs_background": "light"
     },
     "output_type": "display_data"
    }
   ],
   "source": [
    "plot3 = plt.boxplot([data_0['Cantidad'],data_1['Cantidad']])\n",
    "titulo3 = plt.title(\"Distribution of the quantity for the orders with no deffected metres (left) and the others with deffected metres (right).\")"
   ]
  },
  {
   "cell_type": "markdown",
   "metadata": {},
   "source": [
    "On the other hand, the orders with quality issues have a higer median withd."
   ]
  },
  {
   "cell_type": "code",
   "execution_count": 13,
   "metadata": {},
   "outputs": [
    {
     "data": {
      "image/png": "[encoded data removed]",
      "text/plain": [
       "<Figure size 432x288 with 1 Axes>"
      ]
     },
     "metadata": {
      "needs_background": "light"
     },
     "output_type": "display_data"
    }
   ],
   "source": [
    "plot4 = plt.boxplot([data_0['Ancho'],data_1['Ancho']])\n",
    "titulo4 = plt.title(\"Distribution of the withd of the fabrics in orders with no deffected metres (left) and the ones which already have (right).\")"
   ]
  },
  {
   "cell_type": "markdown",
   "metadata": {},
   "source": [
    "Finally, let's focus on a very interesting point, we see a cyciclal component on this. We observe a peak of the quality issues on abril, at least in the business year 2015."
   ]
  },
  {
   "cell_type": "code",
   "execution_count": 14,
   "metadata": {
    "scrolled": true
   },
   "outputs": [
    {
     "data": {
      "image/png": "[encoded data removed]",
      "text/plain": [
       "<Figure size 432x288 with 1 Axes>"
      ]
     },
     "metadata": {
      "needs_background": "light"
     },
     "output_type": "display_data"
    }
   ],
   "source": [
    "data_1 = df_defected_metres.loc[df_defected_metres['MetrosDefectuosos'] == 1]\n",
    "defected = data_1.Fecha\n",
    "defected = defected.astype(\"category\")\n",
    "(unicos, cuenta) = np.unique(defected, return_counts=True)\n",
    "plot5 = plt.bar(x = unicos, height = cuenta, color = 'red')\n",
    "titulo5 = plt.title(\"Distribution of the order lines with deffected metres by month.\")"
   ]
  },
  {
   "cell_type": "markdown",
   "metadata": {},
   "source": [
    "## 3. Train/test partition.<a name=\"id3\"></a>\n",
    "\n",
    "We need now to define our ``df``, let's only keep the four variables we mentioned before."
   ]
  },
  {
   "cell_type": "code",
   "execution_count": 15,
   "metadata": {},
   "outputs": [],
   "source": [
    "df = pd.DataFrame({'y': df_defected_metres.MetrosDefectuosos,'x1':df_defected_metres.GrupoArticulo,'x2':df_defected_metres.Ancho, 'x3':abs(df_defected_metres.Cantidad),\n",
    "                  'x4':year})"
   ]
  },
  {
   "cell_type": "markdown",
   "metadata": {},
   "source": [
    "Also it is needed to change few of them to categorical."
   ]
  },
  {
   "cell_type": "code",
   "execution_count": 16,
   "metadata": {},
   "outputs": [],
   "source": [
    "#in the case of the quantity and the width is not the case\n",
    "df.y = df.y.astype('category')\n",
    "df.x1 = df.x1.astype('category')\n",
    "df.x4 = df.x4.astype('category')"
   ]
  },
  {
   "cell_type": "markdown",
   "metadata": {},
   "source": [
    "Then we define our $X$ matrix of features and the vector column $y$, being them a vector with all the '1's and '0's associated to our goal variable."
   ]
  },
  {
   "cell_type": "code",
   "execution_count": 17,
   "metadata": {},
   "outputs": [],
   "source": [
    "X = df.iloc[:,1:]\n",
    "y = df['y']"
   ]
  },
  {
   "cell_type": "code",
   "execution_count": 18,
   "metadata": {},
   "outputs": [
    {
     "data": {
      "text/html": [
       "<div>\n",
       "<style scoped>\n",
       "    .dataframe tbody tr th:only-of-type {\n",
       "        vertical-align: middle;\n",
       "    }\n",
       "\n",
       "    .dataframe tbody tr th {\n",
       "        vertical-align: top;\n",
       "    }\n",
       "\n",
       "    .dataframe thead th {\n",
       "        text-align: right;\n",
       "    }\n",
       "</style>\n",
       "<table border=\"1\" class=\"dataframe\">\n",
       "  <thead>\n",
       "    <tr style=\"text-align: right;\">\n",
       "      <th></th>\n",
       "      <th>x1</th>\n",
       "      <th>x2</th>\n",
       "      <th>x3</th>\n",
       "      <th>x4</th>\n",
       "    </tr>\n",
       "  </thead>\n",
       "  <tbody>\n",
       "    <tr>\n",
       "      <th>0</th>\n",
       "      <td>2</td>\n",
       "      <td>150</td>\n",
       "      <td>1584.5</td>\n",
       "      <td>1</td>\n",
       "    </tr>\n",
       "    <tr>\n",
       "      <th>1</th>\n",
       "      <td>2</td>\n",
       "      <td>150</td>\n",
       "      <td>1584.5</td>\n",
       "      <td>1</td>\n",
       "    </tr>\n",
       "    <tr>\n",
       "      <th>2</th>\n",
       "      <td>2</td>\n",
       "      <td>150</td>\n",
       "      <td>1584.5</td>\n",
       "      <td>1</td>\n",
       "    </tr>\n",
       "    <tr>\n",
       "      <th>3</th>\n",
       "      <td>2</td>\n",
       "      <td>150</td>\n",
       "      <td>1584.5</td>\n",
       "      <td>1</td>\n",
       "    </tr>\n",
       "    <tr>\n",
       "      <th>4</th>\n",
       "      <td>2</td>\n",
       "      <td>150</td>\n",
       "      <td>1584.5</td>\n",
       "      <td>1</td>\n",
       "    </tr>\n",
       "  </tbody>\n",
       "</table>\n",
       "</div>"
      ],
      "text/plain": [
       "  x1   x2      x3 x4\n",
       "0  2  150  1584.5  1\n",
       "1  2  150  1584.5  1\n",
       "2  2  150  1584.5  1\n",
       "3  2  150  1584.5  1\n",
       "4  2  150  1584.5  1"
      ]
     },
     "execution_count": 18,
     "metadata": {},
     "output_type": "execute_result"
    }
   ],
   "source": [
    "X.head()"
   ]
  },
  {
   "cell_type": "markdown",
   "metadata": {},
   "source": [
    "Finally we use ``train_test_split`` command from the sklearn library to make our train/test split."
   ]
  },
  {
   "cell_type": "code",
   "execution_count": 19,
   "metadata": {},
   "outputs": [],
   "source": [
    "from sklearn.model_selection import train_test_split\n",
    "X_train, X_test, y_train, y_test = train_test_split(X, y,\n",
    "                                                    random_state=0)"
   ]
  },
  {
   "cell_type": "markdown",
   "metadata": {},
   "source": [
    "We have a train sample of the 75% and the rest for validation of the model."
   ]
  },
  {
   "cell_type": "code",
   "execution_count": 20,
   "metadata": {},
   "outputs": [
    {
     "name": "stdout",
     "output_type": "stream",
     "text": [
      "8208 and 2737\n"
     ]
    }
   ],
   "source": [
    "print(len(X_train),\"and\",len(X_test))"
   ]
  },
  {
   "cell_type": "markdown",
   "metadata": {},
   "source": [
    "## 4. Training our SVM model.<a name=\"id4\"></a>\n",
    "\n",
    "Before training a SVM model is needed to find our optimals parametres:\n",
    "\n",
    "- **C**: our complexity parameter, it will determine if our model is just a simple line (C=1) or a very complicated curve (C=10000), be careful the excessed use of this parameter could cause over-fitting, and we want to elaborate a model for new data not for ours.\n",
    "\n",
    "- **$\\gamma$**: gamma indicates us how fast our kernel goes $k(\\mathbf{x}, \\mathbf{y}) \\rightarrow 0$ as function of the pairwise distance. High values of gamma will bring over-fitting as well.\n",
    "\n",
    "Finally 100 for C and 0.1 for $\\gamma$ (relatively low) are picked."
   ]
  },
  {
   "cell_type": "code",
   "execution_count": 21,
   "metadata": {
    "scrolled": true
   },
   "outputs": [
    {
     "name": "stdout",
     "output_type": "stream",
     "text": [
      "Fitting the classifier to the training set...\n",
      "Elapsed time: 951.143s\n",
      "Best estimator found by grid search:\n",
      "{'C': 100.0, 'gamma': 0.1}\n"
     ]
    }
   ],
   "source": [
    "#functions from sklearn we need\n",
    "from sklearn.model_selection import GridSearchCV\n",
    "from time import time\n",
    "from sklearn.svm import SVC\n",
    "\n",
    "#finding the optimal parameters of C and gammma, we will try with some values\n",
    "t0 = time()\n",
    "print(\"Fitting the classifier to the training set...\")\n",
    "param_grid = {'C': [1E2, 5E2, 1E3, 5E3, 1E4],\n",
    "              'gamma': [0.0001, 0.0005, 0.001, 0.005, 0.01, 0.1], } # trying with differents C and gamma parameters\n",
    "\n",
    "#also we have different kernel functions ready to use, I took rbf because it is versatile with a wide range of distributions\n",
    "grid = GridSearchCV(SVC(kernel='rbf', class_weight='balanced'), param_grid, cv=3)\n",
    "grid.fit(X_train, y_train)\n",
    "clf = grid.best_estimator_\n",
    "\n",
    "\n",
    "#be careful due to our more than 8000 train observations this will need around  12 minutes in your computer\n",
    "print(\"Elapsed time: %0.3fs\"%(time() - t0))\n",
    "print(\"Best estimator found by grid search:\")\n",
    "print(grid.best_params_)"
   ]
  },
  {
   "cell_type": "markdown",
   "metadata": {},
   "source": [
    "Then a Support Vector Machine model is trained with those parameters."
   ]
  },
  {
   "cell_type": "code",
   "execution_count": 22,
   "metadata": {},
   "outputs": [],
   "source": [
    "clf = SVC(kernel = 'rbf', C=100, gamma=0.1)\n",
    "fit = clf.fit(X_train, y_train)"
   ]
  },
  {
   "cell_type": "markdown",
   "metadata": {},
   "source": [
    "Here we have a general overview of the results, the trainig accuracy is pretty good with a 0.99/1 of success.\n",
    "\n",
    "Note that we have pretty much support vectors for one class than for the another."
   ]
  },
  {
   "cell_type": "code",
   "execution_count": 23,
   "metadata": {
    "scrolled": true
   },
   "outputs": [
    {
     "name": "stdout",
     "output_type": "stream",
     "text": [
      "Indices of support vectors: [   3    6   10 ... 8203 8204 8207]\n",
      "\n",
      "Number of support vectors for 0 and 1: [2274  540]\n",
      "\n",
      "Coefficients of the support vector in the decision function: [[ -0.26462582  -0.25889349  -0.26523064 ...   1.50577883 100.\n",
      "    1.5057834 ]]\n",
      "\n",
      "Constants in decision function: [-0.73529154]\n",
      "\n"
     ]
    }
   ],
   "source": [
    "print(\"Indices of support vectors: {}\\n\".format(clf.support_))\n",
    "\n",
    "print(\"Number of support vectors for 0 and 1: {}\\n\".format(clf.n_support_))\n",
    "\n",
    "print(\"Coefficients of the support vector in the decision function: {}\\n\".format(clf.dual_coef_))\n",
    "\n",
    "print(\"Constants in decision function: {}\\n\".format(clf.intercept_))"
   ]
  },
  {
   "cell_type": "code",
   "execution_count": 24,
   "metadata": {
    "scrolled": true
   },
   "outputs": [
    {
     "name": "stdout",
     "output_type": "stream",
     "text": [
      "Training accuracy = 99.0%\n"
     ]
    }
   ],
   "source": [
    "print('Training accuracy = {0}%'.format(np.round(clf.score(X_train, y_train),2)*100))"
   ]
  },
  {
   "cell_type": "markdown",
   "metadata": {},
   "source": [
    "## 5. Testing.<a name=\"id5\"></a>\n",
    "\n",
    "Now is time to try if our model already works with new data."
   ]
  },
  {
   "cell_type": "code",
   "execution_count": 25,
   "metadata": {},
   "outputs": [
    {
     "name": "stdout",
     "output_type": "stream",
     "text": [
      " Test Accuracy: 97.59%\n"
     ]
    }
   ],
   "source": [
    "#evaluation\n",
    "from sklearn.metrics import accuracy_score\n",
    "y_pred = clf.predict(X_test)\n",
    "\n",
    "print(' Test Accuracy: %.2f%%'%(accuracy_score(y_test, y_pred)*100))"
   ]
  },
  {
   "cell_type": "markdown",
   "metadata": {},
   "source": [
    "We see an accuracy rate similar for lines with no deffected metres and the other others which actually have quality issues."
   ]
  },
  {
   "cell_type": "code",
   "execution_count": 26,
   "metadata": {},
   "outputs": [
    {
     "name": "stdout",
     "output_type": "stream",
     "text": [
      "[[1363   33]\n",
      " [  33 1308]]\n"
     ]
    }
   ],
   "source": [
    "from sklearn.metrics import confusion_matrix\n",
    "print(confusion_matrix(y_test, y_pred))"
   ]
  },
  {
   "cell_type": "markdown",
   "metadata": {},
   "source": [
    "## Conclusions.<a name = \"id6\"></a>\n",
    "\n",
    "We have obtained pretty good results in our test sample as well so we can consider that this SVM technique fits this particular challenge. Anyway, we have to try it with data from other business years to check that it works properly."
   ]
  }
 ],
 "metadata": {
  "kernelspec": {
   "display_name": "Python 3",
   "language": "python",
   "name": "python3"
  },
  "language_info": {
   "codemirror_mode": {
    "name": "ipython",
    "version": 3
   },
   "file_extension": ".py",
   "mimetype": "text/x-python",
   "name": "python",
   "nbconvert_exporter": "python",
   "pygments_lexer": "ipython3",
   "version": "3.8.5"
  }
 },
 "nbformat": 4,
 "nbformat_minor": 4
}
