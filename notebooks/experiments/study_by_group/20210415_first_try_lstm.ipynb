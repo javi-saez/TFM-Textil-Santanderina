{
 "cells": [
  {
   "cell_type": "code",
   "execution_count": 52,
   "metadata": {},
   "outputs": [],
   "source": [
    "import pandas as pd\n",
    "import numpy as np\n",
    "\n",
    "## pre-processing the data:\n",
    "from sklearn.preprocessing import MinMaxScaler\n",
    "\n",
    "## NN tools we need:\n",
    "from tensorflow.keras.models import Sequential\n",
    "from tensorflow.keras.layers import Dense, Dropout, LSTM\n",
    "\n",
    "##in order to perform the visualization tasks:\n",
    "import matplotlib.pyplot  as plt\n",
    "\n",
    "##our own module for data_preparation:\n",
    "import glob\n",
    "from info_extraction import df_family\n",
    "\n",
    "##grid search cv\n",
    "from sklearn.model_selection import GridSearchCV\n",
    "from tensorflow.keras.wrappers.scikit_learn import KerasRegressor\n",
    "\n",
    "## error metrics:\n",
    "from sklearn.metrics import mean_squared_error"
   ]
  },
  {
   "cell_type": "code",
   "execution_count": 2,
   "metadata": {},
   "outputs": [],
   "source": [
    "## more readable format to the numbers than scientific notation:\n",
    "np.set_printoptions(suppress=True)"
   ]
  },
  {
   "cell_type": "code",
   "execution_count": 3,
   "metadata": {},
   "outputs": [],
   "source": [
    "#we import our training data:\n",
    "xTrain = pd.read_pickle(\"xTrain_f2.pkl\")\n",
    "yTrain = pd.read_pickle(\"yTrainf_2.pkl\")"
   ]
  },
  {
   "cell_type": "code",
   "execution_count": 4,
   "metadata": {},
   "outputs": [
    {
     "data": {
      "text/html": [
       "<div>\n",
       "<style scoped>\n",
       "    .dataframe tbody tr th:only-of-type {\n",
       "        vertical-align: middle;\n",
       "    }\n",
       "\n",
       "    .dataframe tbody tr th {\n",
       "        vertical-align: top;\n",
       "    }\n",
       "\n",
       "    .dataframe thead th {\n",
       "        text-align: right;\n",
       "    }\n",
       "</style>\n",
       "<table border=\"1\" class=\"dataframe\">\n",
       "  <thead>\n",
       "    <tr style=\"text-align: right;\">\n",
       "      <th></th>\n",
       "      <th>seasonability_circ_cos</th>\n",
       "      <th>seasonability_circ_sin</th>\n",
       "      <th>time</th>\n",
       "    </tr>\n",
       "  </thead>\n",
       "  <tbody>\n",
       "    <tr>\n",
       "      <th>0</th>\n",
       "      <td>0.991445</td>\n",
       "      <td>1.305262e-01</td>\n",
       "      <td>2015.000000</td>\n",
       "    </tr>\n",
       "    <tr>\n",
       "      <th>1</th>\n",
       "      <td>0.965926</td>\n",
       "      <td>2.588190e-01</td>\n",
       "      <td>2015.020833</td>\n",
       "    </tr>\n",
       "    <tr>\n",
       "      <th>2</th>\n",
       "      <td>0.923880</td>\n",
       "      <td>3.826834e-01</td>\n",
       "      <td>2015.041667</td>\n",
       "    </tr>\n",
       "    <tr>\n",
       "      <th>3</th>\n",
       "      <td>0.866025</td>\n",
       "      <td>5.000000e-01</td>\n",
       "      <td>2015.062500</td>\n",
       "    </tr>\n",
       "    <tr>\n",
       "      <th>4</th>\n",
       "      <td>0.793353</td>\n",
       "      <td>6.087614e-01</td>\n",
       "      <td>2015.083333</td>\n",
       "    </tr>\n",
       "    <tr>\n",
       "      <th>...</th>\n",
       "      <td>...</td>\n",
       "      <td>...</td>\n",
       "      <td>...</td>\n",
       "    </tr>\n",
       "    <tr>\n",
       "      <th>187</th>\n",
       "      <td>0.866025</td>\n",
       "      <td>-5.000000e-01</td>\n",
       "      <td>2018.895833</td>\n",
       "    </tr>\n",
       "    <tr>\n",
       "      <th>188</th>\n",
       "      <td>0.923880</td>\n",
       "      <td>-3.826834e-01</td>\n",
       "      <td>2018.916667</td>\n",
       "    </tr>\n",
       "    <tr>\n",
       "      <th>189</th>\n",
       "      <td>0.965926</td>\n",
       "      <td>-2.588190e-01</td>\n",
       "      <td>2018.937500</td>\n",
       "    </tr>\n",
       "    <tr>\n",
       "      <th>190</th>\n",
       "      <td>0.991445</td>\n",
       "      <td>-1.305262e-01</td>\n",
       "      <td>2018.958333</td>\n",
       "    </tr>\n",
       "    <tr>\n",
       "      <th>191</th>\n",
       "      <td>1.000000</td>\n",
       "      <td>-2.449294e-16</td>\n",
       "      <td>2018.979167</td>\n",
       "    </tr>\n",
       "  </tbody>\n",
       "</table>\n",
       "<p>192 rows × 3 columns</p>\n",
       "</div>"
      ],
      "text/plain": [
       "     seasonability_circ_cos  seasonability_circ_sin         time\n",
       "0                  0.991445            1.305262e-01  2015.000000\n",
       "1                  0.965926            2.588190e-01  2015.020833\n",
       "2                  0.923880            3.826834e-01  2015.041667\n",
       "3                  0.866025            5.000000e-01  2015.062500\n",
       "4                  0.793353            6.087614e-01  2015.083333\n",
       "..                      ...                     ...          ...\n",
       "187                0.866025           -5.000000e-01  2018.895833\n",
       "188                0.923880           -3.826834e-01  2018.916667\n",
       "189                0.965926           -2.588190e-01  2018.937500\n",
       "190                0.991445           -1.305262e-01  2018.958333\n",
       "191                1.000000           -2.449294e-16  2018.979167\n",
       "\n",
       "[192 rows x 3 columns]"
      ]
     },
     "execution_count": 4,
     "metadata": {},
     "output_type": "execute_result"
    }
   ],
   "source": [
    "xTrain"
   ]
  },
  {
   "cell_type": "code",
   "execution_count": 5,
   "metadata": {},
   "outputs": [
    {
     "data": {
      "text/plain": [
       "(192, 3)"
      ]
     },
     "execution_count": 5,
     "metadata": {},
     "output_type": "execute_result"
    }
   ],
   "source": [
    "#we check our dims:\n",
    "xTrain.shape"
   ]
  },
  {
   "cell_type": "code",
   "execution_count": 6,
   "metadata": {},
   "outputs": [
    {
     "data": {
      "text/plain": [
       "(192, 1)"
      ]
     },
     "execution_count": 6,
     "metadata": {},
     "output_type": "execute_result"
    }
   ],
   "source": [
    "yTrain.shape"
   ]
  },
  {
   "cell_type": "code",
   "execution_count": 7,
   "metadata": {},
   "outputs": [],
   "source": [
    "#Preprocessing the data: \n",
    "scaler = MinMaxScaler(feature_range=(0,1))\n",
    "scaled_target = scaler.fit_transform(yTrain['target'].values.reshape(-1,1))"
   ]
  },
  {
   "cell_type": "code",
   "execution_count": 8,
   "metadata": {},
   "outputs": [
    {
     "data": {
      "text/plain": [
       "(192, 1)"
      ]
     },
     "execution_count": 8,
     "metadata": {},
     "output_type": "execute_result"
    }
   ],
   "source": [
    "scaled_target.shape"
   ]
  },
  {
   "cell_type": "code",
   "execution_count": 9,
   "metadata": {},
   "outputs": [],
   "source": [
    "#we should scale our features as well: \n",
    "scaled_features = scaler.fit_transform(xTrain)"
   ]
  },
  {
   "cell_type": "code",
   "execution_count": 10,
   "metadata": {},
   "outputs": [
    {
     "data": {
      "text/plain": [
       "(192, 3)"
      ]
     },
     "execution_count": 10,
     "metadata": {},
     "output_type": "execute_result"
    }
   ],
   "source": [
    "scaled_features.shape"
   ]
  },
  {
   "cell_type": "code",
   "execution_count": null,
   "metadata": {},
   "outputs": [],
   "source": []
  },
  {
   "cell_type": "code",
   "execution_count": 11,
   "metadata": {
    "scrolled": true
   },
   "outputs": [],
   "source": [
    "scaled_features = scaled_features.reshape(192,3,1)"
   ]
  },
  {
   "cell_type": "code",
   "execution_count": 12,
   "metadata": {
    "scrolled": false
   },
   "outputs": [
    {
     "name": "stdout",
     "output_type": "stream",
     "text": [
      "Epoch 1/100\n",
      "6/6 [==============================] - 0s 6ms/step - loss: 0.0487\n",
      "Epoch 2/100\n",
      "6/6 [==============================] - 0s 8ms/step - loss: 0.0487\n",
      "Epoch 3/100\n",
      "6/6 [==============================] - 0s 6ms/step - loss: 0.0487\n",
      "Epoch 4/100\n",
      "6/6 [==============================] - 0s 7ms/step - loss: 0.0487\n",
      "Epoch 5/100\n",
      "6/6 [==============================] - 0s 7ms/step - loss: 0.0487\n",
      "Epoch 6/100\n",
      "6/6 [==============================] - 0s 7ms/step - loss: 0.0487\n",
      "Epoch 7/100\n",
      "6/6 [==============================] - 0s 6ms/step - loss: 0.0487\n",
      "Epoch 8/100\n",
      "6/6 [==============================] - 0s 6ms/step - loss: 0.0487\n",
      "Epoch 9/100\n",
      "6/6 [==============================] - 0s 7ms/step - loss: 0.0487\n",
      "Epoch 10/100\n",
      "6/6 [==============================] - 0s 8ms/step - loss: 0.0487\n",
      "Epoch 11/100\n",
      "6/6 [==============================] - 0s 11ms/step - loss: 0.0487\n",
      "Epoch 12/100\n",
      "6/6 [==============================] - 0s 12ms/step - loss: 0.0487\n",
      "Epoch 13/100\n",
      "6/6 [==============================] - 0s 8ms/step - loss: 0.0487\n",
      "Epoch 14/100\n",
      "6/6 [==============================] - 0s 9ms/step - loss: 0.0487\n",
      "Epoch 15/100\n",
      "6/6 [==============================] - 0s 10ms/step - loss: 0.0487\n",
      "Epoch 16/100\n",
      "6/6 [==============================] - 0s 9ms/step - loss: 0.0487\n",
      "Epoch 17/100\n",
      "6/6 [==============================] - 0s 9ms/step - loss: 0.0487\n",
      "Epoch 18/100\n",
      "6/6 [==============================] - 0s 9ms/step - loss: 0.0487\n",
      "Epoch 19/100\n",
      "6/6 [==============================] - 0s 9ms/step - loss: 0.0487\n",
      "Epoch 20/100\n",
      "6/6 [==============================] - 0s 8ms/step - loss: 0.0487\n",
      "Epoch 21/100\n",
      "6/6 [==============================] - 0s 8ms/step - loss: 0.0487\n",
      "Epoch 22/100\n",
      "6/6 [==============================] - 0s 9ms/step - loss: 0.0487\n",
      "Epoch 23/100\n",
      "6/6 [==============================] - 0s 8ms/step - loss: 0.0487\n",
      "Epoch 24/100\n",
      "6/6 [==============================] - 0s 9ms/step - loss: 0.0487\n",
      "Epoch 25/100\n",
      "6/6 [==============================] - 0s 9ms/step - loss: 0.0487\n",
      "Epoch 26/100\n",
      "6/6 [==============================] - 0s 9ms/step - loss: 0.0487\n",
      "Epoch 27/100\n",
      "6/6 [==============================] - 0s 9ms/step - loss: 0.0487\n",
      "Epoch 28/100\n",
      "6/6 [==============================] - 0s 9ms/step - loss: 0.0487\n",
      "Epoch 29/100\n",
      "6/6 [==============================] - 0s 8ms/step - loss: 0.0487\n",
      "Epoch 30/100\n",
      "6/6 [==============================] - 0s 8ms/step - loss: 0.0487\n",
      "Epoch 31/100\n",
      "6/6 [==============================] - 0s 9ms/step - loss: 0.0487\n",
      "Epoch 32/100\n",
      "6/6 [==============================] - 0s 6ms/step - loss: 0.0487\n",
      "Epoch 33/100\n",
      "6/6 [==============================] - 0s 5ms/step - loss: 0.0487\n",
      "Epoch 34/100\n",
      "6/6 [==============================] - 0s 5ms/step - loss: 0.0487\n",
      "Epoch 35/100\n",
      "6/6 [==============================] - 0s 5ms/step - loss: 0.0487\n",
      "Epoch 36/100\n",
      "6/6 [==============================] - 0s 7ms/step - loss: 0.0487\n",
      "Epoch 37/100\n",
      "6/6 [==============================] - 0s 8ms/step - loss: 0.0487\n",
      "Epoch 38/100\n",
      "6/6 [==============================] - 0s 6ms/step - loss: 0.0487\n",
      "Epoch 39/100\n",
      "6/6 [==============================] - 0s 5ms/step - loss: 0.0487\n",
      "Epoch 40/100\n",
      "6/6 [==============================] - 0s 5ms/step - loss: 0.0487\n",
      "Epoch 41/100\n",
      "6/6 [==============================] - 0s 6ms/step - loss: 0.0487\n",
      "Epoch 42/100\n",
      "6/6 [==============================] - 0s 5ms/step - loss: 0.0487\n",
      "Epoch 43/100\n",
      "6/6 [==============================] - 0s 6ms/step - loss: 0.0487\n",
      "Epoch 44/100\n",
      "6/6 [==============================] - 0s 6ms/step - loss: 0.0487\n",
      "Epoch 45/100\n",
      "6/6 [==============================] - 0s 4ms/step - loss: 0.0487\n",
      "Epoch 46/100\n",
      "6/6 [==============================] - 0s 6ms/step - loss: 0.0487\n",
      "Epoch 47/100\n",
      "6/6 [==============================] - 0s 6ms/step - loss: 0.0487\n",
      "Epoch 48/100\n",
      "6/6 [==============================] - 0s 6ms/step - loss: 0.0487\n",
      "Epoch 49/100\n",
      "6/6 [==============================] - 0s 6ms/step - loss: 0.0487\n",
      "Epoch 50/100\n",
      "6/6 [==============================] - 0s 6ms/step - loss: 0.0487\n",
      "Epoch 51/100\n",
      "6/6 [==============================] - 0s 7ms/step - loss: 0.0487\n",
      "Epoch 52/100\n",
      "6/6 [==============================] - 0s 4ms/step - loss: 0.0487\n",
      "Epoch 53/100\n",
      "6/6 [==============================] - 0s 6ms/step - loss: 0.0487\n",
      "Epoch 54/100\n",
      "6/6 [==============================] - 0s 6ms/step - loss: 0.0487\n",
      "Epoch 55/100\n",
      "6/6 [==============================] - 0s 8ms/step - loss: 0.0487\n",
      "Epoch 56/100\n",
      "6/6 [==============================] - 0s 8ms/step - loss: 0.0487\n",
      "Epoch 57/100\n",
      "6/6 [==============================] - 0s 8ms/step - loss: 0.0487\n",
      "Epoch 58/100\n",
      "6/6 [==============================] - 0s 9ms/step - loss: 0.0487\n",
      "Epoch 59/100\n",
      "6/6 [==============================] - 0s 6ms/step - loss: 0.0487\n",
      "Epoch 60/100\n",
      "6/6 [==============================] - 0s 7ms/step - loss: 0.0487\n",
      "Epoch 61/100\n",
      "6/6 [==============================] - 0s 6ms/step - loss: 0.0487\n",
      "Epoch 62/100\n",
      "6/6 [==============================] - 0s 7ms/step - loss: 0.0487\n",
      "Epoch 63/100\n",
      "6/6 [==============================] - 0s 8ms/step - loss: 0.0487\n",
      "Epoch 64/100\n",
      "6/6 [==============================] - 0s 8ms/step - loss: 0.0487\n",
      "Epoch 65/100\n",
      "6/6 [==============================] - 0s 9ms/step - loss: 0.0487\n",
      "Epoch 66/100\n",
      "6/6 [==============================] - 0s 9ms/step - loss: 0.0487\n",
      "Epoch 67/100\n",
      "6/6 [==============================] - 0s 6ms/step - loss: 0.0487\n",
      "Epoch 68/100\n",
      "6/6 [==============================] - 0s 8ms/step - loss: 0.0487\n",
      "Epoch 69/100\n",
      "6/6 [==============================] - 0s 6ms/step - loss: 0.0487\n",
      "Epoch 70/100\n",
      "6/6 [==============================] - 0s 8ms/step - loss: 0.0487\n",
      "Epoch 71/100\n",
      "6/6 [==============================] - 0s 9ms/step - loss: 0.0487\n",
      "Epoch 72/100\n",
      "6/6 [==============================] - 0s 6ms/step - loss: 0.0487\n",
      "Epoch 73/100\n",
      "6/6 [==============================] - 0s 6ms/step - loss: 0.0487\n",
      "Epoch 74/100\n",
      "6/6 [==============================] - 0s 5ms/step - loss: 0.0487\n",
      "Epoch 75/100\n",
      "6/6 [==============================] - 0s 6ms/step - loss: 0.0487\n",
      "Epoch 76/100\n",
      "6/6 [==============================] - 0s 7ms/step - loss: 0.0487\n",
      "Epoch 77/100\n",
      "6/6 [==============================] - ETA: 0s - loss: 0.081 - 0s 5ms/step - loss: 0.0487\n",
      "Epoch 78/100\n",
      "6/6 [==============================] - 0s 7ms/step - loss: 0.0487\n",
      "Epoch 79/100\n",
      "6/6 [==============================] - 0s 10ms/step - loss: 0.0487\n",
      "Epoch 80/100\n",
      "6/6 [==============================] - 0s 8ms/step - loss: 0.0487\n",
      "Epoch 81/100\n",
      "6/6 [==============================] - 0s 9ms/step - loss: 0.0487\n",
      "Epoch 82/100\n",
      "6/6 [==============================] - 0s 9ms/step - loss: 0.0487\n",
      "Epoch 83/100\n",
      "6/6 [==============================] - 0s 8ms/step - loss: 0.0487\n",
      "Epoch 84/100\n",
      "6/6 [==============================] - 0s 10ms/step - loss: 0.0487\n",
      "Epoch 85/100\n",
      "6/6 [==============================] - 0s 8ms/step - loss: 0.0487\n",
      "Epoch 86/100\n",
      "6/6 [==============================] - 0s 9ms/step - loss: 0.0487\n",
      "Epoch 87/100\n",
      "6/6 [==============================] - 0s 8ms/step - loss: 0.0487\n",
      "Epoch 88/100\n",
      "6/6 [==============================] - 0s 6ms/step - loss: 0.0487\n",
      "Epoch 89/100\n",
      "6/6 [==============================] - 0s 8ms/step - loss: 0.0487\n",
      "Epoch 90/100\n",
      "6/6 [==============================] - 0s 8ms/step - loss: 0.0487\n",
      "Epoch 91/100\n",
      "6/6 [==============================] - 0s 8ms/step - loss: 0.0487\n",
      "Epoch 92/100\n",
      "6/6 [==============================] - 0s 7ms/step - loss: 0.0487\n",
      "Epoch 93/100\n",
      "6/6 [==============================] - 0s 5ms/step - loss: 0.0487\n",
      "Epoch 94/100\n",
      "6/6 [==============================] - 0s 5ms/step - loss: 0.0487\n",
      "Epoch 95/100\n",
      "6/6 [==============================] - 0s 4ms/step - loss: 0.0487\n",
      "Epoch 96/100\n",
      "6/6 [==============================] - 0s 7ms/step - loss: 0.0487\n",
      "Epoch 97/100\n",
      "6/6 [==============================] - 0s 8ms/step - loss: 0.0487\n",
      "Epoch 98/100\n",
      "6/6 [==============================] - 0s 8ms/step - loss: 0.0487\n",
      "Epoch 99/100\n",
      "6/6 [==============================] - 0s 7ms/step - loss: 0.0487\n",
      "Epoch 100/100\n",
      "6/6 [==============================] - 0s 9ms/step - loss: 0.0487\n",
      "Best: -0.028213 using {'neurons': 1}\n",
      "-0.028213 (0.005425) with: {'neurons': 1}\n",
      "-0.028694 (0.005480) with: {'neurons': 5}\n",
      "-0.029155 (0.005818) with: {'neurons': 10}\n",
      "-0.029270 (0.005452) with: {'neurons': 15}\n",
      "-0.029408 (0.005236) with: {'neurons': 20}\n",
      "-0.029369 (0.005414) with: {'neurons': 25}\n",
      "-0.029691 (0.005498) with: {'neurons': 30}\n"
     ]
    }
   ],
   "source": [
    "## would be recommendable to proceed with a grid search crossvalidation,\n",
    "## let's do it with the number of neurons:\n",
    "def create_model(neurons):\n",
    "    input_shape = (3,1)\n",
    "\n",
    "    ## we build the model:\n",
    "    model = Sequential()\n",
    "\n",
    "    model.add(LSTM(units = neurons, return_sequences = True, input_shape = input_shape))\n",
    "    model.add(Dropout(0.2))\n",
    "    model.add(LSTM(units = neurons, return_sequences = True))\n",
    "    model.add(Dropout(0.2))\n",
    "    model.add(LSTM(units = neurons))\n",
    "    model.add(Dropout(0.2))\n",
    "    model.add(Dense(units = 1, activation = 'relu'))\n",
    "    \n",
    "    ## we choose adam algorithm:\n",
    "    model.compile(optimizer='adam', loss = 'mean_squared_error')\n",
    "    return model\n",
    "\n",
    "## our seed:\n",
    "seed = 1\n",
    "np.random.seed(seed)\n",
    "\n",
    "## we compile our model and we fit our model for any number of neurons:\n",
    "model = KerasRegressor(build_fn= create_model,epochs=100)\n",
    "\n",
    "## reasonable examples of neurons, our cv is 1 because we have few data\n",
    "# define the grid search parameters\n",
    "neurons = [1, 5, 10, 15, 20, 25, 30]\n",
    "param_grid = dict(neurons=neurons)\n",
    "grid = GridSearchCV(estimator=model, param_grid=param_grid, n_jobs=-1, cv=2)\n",
    "grid_result = grid.fit(X=scaled_features, y=scaled_target)\n",
    "\n",
    "\n",
    "\n",
    "# summarize results\n",
    "print(\"Best: %f using %s\" % (grid_result.best_score_, grid_result.best_params_))\n",
    "means = grid_result.cv_results_['mean_test_score']\n",
    "stds = grid_result.cv_results_['std_test_score']\n",
    "params = grid_result.cv_results_['params']\n",
    "for mean, stdev, param in zip(means, stds, params):\n",
    "    print(\"%f (%f) with: %r\" % (mean, stdev, param))"
   ]
  },
  {
   "cell_type": "code",
   "execution_count": 13,
   "metadata": {},
   "outputs": [],
   "source": [
    "a = create_model(5)"
   ]
  },
  {
   "cell_type": "code",
   "execution_count": 14,
   "metadata": {},
   "outputs": [],
   "source": [
    "input_shape = (3,1)\n",
    "\n",
    "## we build the model:\n",
    "model = Sequential()\n",
    "\n",
    "model.add(LSTM(units = 5, return_sequences = True, input_shape = input_shape))\n",
    "model.add(Dropout(0.2))\n",
    "model.add(LSTM(units = 5, return_sequences = True))\n",
    "model.add(Dropout(0.2))\n",
    "model.add(LSTM(units = 5))\n",
    "model.add(Dropout(0.2))\n",
    "model.add(Dense(units = 1))"
   ]
  },
  {
   "cell_type": "code",
   "execution_count": 15,
   "metadata": {
    "scrolled": false
   },
   "outputs": [
    {
     "name": "stdout",
     "output_type": "stream",
     "text": [
      "Epoch 1/100\n",
      "6/6 [==============================] - 3s 444ms/step - loss: 0.0421 - val_loss: 0.0579\n",
      "Epoch 2/100\n",
      "6/6 [==============================] - 0s 15ms/step - loss: 0.0375 - val_loss: 0.0535\n",
      "Epoch 3/100\n",
      "6/6 [==============================] - 0s 16ms/step - loss: 0.0331 - val_loss: 0.0500\n",
      "Epoch 4/100\n",
      "6/6 [==============================] - 0s 15ms/step - loss: 0.0313 - val_loss: 0.0475\n",
      "Epoch 5/100\n",
      "6/6 [==============================] - 0s 15ms/step - loss: 0.0287 - val_loss: 0.0460\n",
      "Epoch 6/100\n",
      "6/6 [==============================] - 0s 15ms/step - loss: 0.0271 - val_loss: 0.0452\n",
      "Epoch 7/100\n",
      "6/6 [==============================] - 0s 15ms/step - loss: 0.0262 - val_loss: 0.0449\n",
      "Epoch 8/100\n",
      "6/6 [==============================] - 0s 14ms/step - loss: 0.0279 - val_loss: 0.0449\n",
      "Epoch 9/100\n",
      "6/6 [==============================] - 0s 15ms/step - loss: 0.0285 - val_loss: 0.0448\n",
      "Epoch 10/100\n",
      "6/6 [==============================] - 0s 15ms/step - loss: 0.0261 - val_loss: 0.0447\n",
      "Epoch 11/100\n",
      "6/6 [==============================] - 0s 15ms/step - loss: 0.0266 - val_loss: 0.0447\n",
      "Epoch 12/100\n",
      "6/6 [==============================] - 0s 14ms/step - loss: 0.0270 - val_loss: 0.0448\n",
      "Epoch 13/100\n",
      "6/6 [==============================] - 0s 14ms/step - loss: 0.0272 - val_loss: 0.0447\n",
      "Epoch 14/100\n",
      "6/6 [==============================] - 0s 14ms/step - loss: 0.0268 - val_loss: 0.0447\n",
      "Epoch 15/100\n",
      "6/6 [==============================] - 0s 14ms/step - loss: 0.0265 - val_loss: 0.0446\n",
      "Epoch 16/100\n",
      "6/6 [==============================] - 0s 13ms/step - loss: 0.0266 - val_loss: 0.0446\n",
      "Epoch 17/100\n",
      "6/6 [==============================] - 0s 13ms/step - loss: 0.0272 - val_loss: 0.0445\n",
      "Epoch 18/100\n",
      "6/6 [==============================] - 0s 13ms/step - loss: 0.0271 - val_loss: 0.0444\n",
      "Epoch 19/100\n",
      "6/6 [==============================] - 0s 14ms/step - loss: 0.0262 - val_loss: 0.0444\n",
      "Epoch 20/100\n",
      "6/6 [==============================] - 0s 14ms/step - loss: 0.0267 - val_loss: 0.0444\n",
      "Epoch 21/100\n",
      "6/6 [==============================] - 0s 14ms/step - loss: 0.0269 - val_loss: 0.0443\n",
      "Epoch 22/100\n",
      "6/6 [==============================] - 0s 13ms/step - loss: 0.0271 - val_loss: 0.0443\n",
      "Epoch 23/100\n",
      "6/6 [==============================] - 0s 15ms/step - loss: 0.0253 - val_loss: 0.0443\n",
      "Epoch 24/100\n",
      "6/6 [==============================] - 0s 13ms/step - loss: 0.0272 - val_loss: 0.0443\n",
      "Epoch 25/100\n",
      "6/6 [==============================] - 0s 13ms/step - loss: 0.0263 - val_loss: 0.0442\n",
      "Epoch 26/100\n",
      "6/6 [==============================] - 0s 13ms/step - loss: 0.0266 - val_loss: 0.0442\n",
      "Epoch 27/100\n",
      "6/6 [==============================] - 0s 14ms/step - loss: 0.0267 - val_loss: 0.0441\n",
      "Epoch 28/100\n",
      "6/6 [==============================] - 0s 14ms/step - loss: 0.0259 - val_loss: 0.0441\n",
      "Epoch 29/100\n",
      "6/6 [==============================] - 0s 15ms/step - loss: 0.0272 - val_loss: 0.0441\n",
      "Epoch 30/100\n",
      "6/6 [==============================] - 0s 14ms/step - loss: 0.0254 - val_loss: 0.0442\n",
      "Epoch 31/100\n",
      "6/6 [==============================] - 0s 13ms/step - loss: 0.0252 - val_loss: 0.0441\n",
      "Epoch 32/100\n",
      "6/6 [==============================] - 0s 14ms/step - loss: 0.0271 - val_loss: 0.0441\n",
      "Epoch 33/100\n",
      "6/6 [==============================] - 0s 13ms/step - loss: 0.0265 - val_loss: 0.0441\n",
      "Epoch 34/100\n",
      "6/6 [==============================] - 0s 14ms/step - loss: 0.0271 - val_loss: 0.0441\n",
      "Epoch 35/100\n",
      "6/6 [==============================] - 0s 14ms/step - loss: 0.0259 - val_loss: 0.0441\n",
      "Epoch 36/100\n",
      "6/6 [==============================] - 0s 14ms/step - loss: 0.0264 - val_loss: 0.0441\n",
      "Epoch 37/100\n",
      "6/6 [==============================] - 0s 14ms/step - loss: 0.0265 - val_loss: 0.0440\n",
      "Epoch 38/100\n",
      "6/6 [==============================] - 0s 13ms/step - loss: 0.0265 - val_loss: 0.0440\n",
      "Epoch 39/100\n",
      "6/6 [==============================] - 0s 13ms/step - loss: 0.0273 - val_loss: 0.0440\n",
      "Epoch 40/100\n",
      "6/6 [==============================] - 0s 13ms/step - loss: 0.0271 - val_loss: 0.0439\n",
      "Epoch 41/100\n",
      "6/6 [==============================] - 0s 14ms/step - loss: 0.0263 - val_loss: 0.0440\n",
      "Epoch 42/100\n",
      "6/6 [==============================] - 0s 13ms/step - loss: 0.0267 - val_loss: 0.0440\n",
      "Epoch 43/100\n",
      "6/6 [==============================] - 0s 14ms/step - loss: 0.0268 - val_loss: 0.0439\n",
      "Epoch 44/100\n",
      "6/6 [==============================] - 0s 14ms/step - loss: 0.0268 - val_loss: 0.0439\n",
      "Epoch 45/100\n",
      "6/6 [==============================] - 0s 14ms/step - loss: 0.0275 - val_loss: 0.0439\n",
      "Epoch 46/100\n",
      "6/6 [==============================] - 0s 14ms/step - loss: 0.0263 - val_loss: 0.0438\n",
      "Epoch 47/100\n",
      "6/6 [==============================] - 0s 12ms/step - loss: 0.0265 - val_loss: 0.0438\n",
      "Epoch 48/100\n",
      "6/6 [==============================] - 0s 13ms/step - loss: 0.0265 - val_loss: 0.0438\n",
      "Epoch 49/100\n",
      "6/6 [==============================] - 0s 13ms/step - loss: 0.0262 - val_loss: 0.0438\n",
      "Epoch 50/100\n",
      "6/6 [==============================] - 0s 15ms/step - loss: 0.0264 - val_loss: 0.0437\n",
      "Epoch 51/100\n",
      "6/6 [==============================] - 0s 13ms/step - loss: 0.0268 - val_loss: 0.0437\n",
      "Epoch 52/100\n",
      "6/6 [==============================] - 0s 13ms/step - loss: 0.0266 - val_loss: 0.0437\n",
      "Epoch 53/100\n",
      "6/6 [==============================] - 0s 13ms/step - loss: 0.0254 - val_loss: 0.0437\n",
      "Epoch 54/100\n",
      "6/6 [==============================] - 0s 13ms/step - loss: 0.0262 - val_loss: 0.0437\n",
      "Epoch 55/100\n",
      "6/6 [==============================] - 0s 15ms/step - loss: 0.0265 - val_loss: 0.0437\n",
      "Epoch 56/100\n",
      "6/6 [==============================] - 0s 14ms/step - loss: 0.0269 - val_loss: 0.0437\n",
      "Epoch 57/100\n",
      "6/6 [==============================] - 0s 14ms/step - loss: 0.0259 - val_loss: 0.0437\n",
      "Epoch 58/100\n",
      "6/6 [==============================] - 0s 14ms/step - loss: 0.0268 - val_loss: 0.0437\n",
      "Epoch 59/100\n",
      "6/6 [==============================] - 0s 13ms/step - loss: 0.0263 - val_loss: 0.0437\n",
      "Epoch 60/100\n",
      "6/6 [==============================] - 0s 13ms/step - loss: 0.0263 - val_loss: 0.0437\n",
      "Epoch 61/100\n",
      "6/6 [==============================] - 0s 13ms/step - loss: 0.0266 - val_loss: 0.0436\n",
      "Epoch 62/100\n",
      "6/6 [==============================] - 0s 14ms/step - loss: 0.0261 - val_loss: 0.0437\n",
      "Epoch 63/100\n",
      "6/6 [==============================] - 0s 13ms/step - loss: 0.0257 - val_loss: 0.0437\n",
      "Epoch 64/100\n",
      "6/6 [==============================] - 0s 14ms/step - loss: 0.0255 - val_loss: 0.0436\n",
      "Epoch 65/100\n",
      "6/6 [==============================] - 0s 15ms/step - loss: 0.0255 - val_loss: 0.0436\n",
      "Epoch 66/100\n",
      "6/6 [==============================] - 0s 13ms/step - loss: 0.0255 - val_loss: 0.0436\n",
      "Epoch 67/100\n",
      "6/6 [==============================] - 0s 13ms/step - loss: 0.0260 - val_loss: 0.0436\n",
      "Epoch 68/100\n",
      "6/6 [==============================] - 0s 15ms/step - loss: 0.0258 - val_loss: 0.0436\n",
      "Epoch 69/100\n",
      "6/6 [==============================] - 0s 14ms/step - loss: 0.0255 - val_loss: 0.0435\n",
      "Epoch 70/100\n",
      "6/6 [==============================] - 0s 14ms/step - loss: 0.0257 - val_loss: 0.0436\n",
      "Epoch 71/100\n",
      "6/6 [==============================] - 0s 14ms/step - loss: 0.0261 - val_loss: 0.0435\n",
      "Epoch 72/100\n",
      "6/6 [==============================] - 0s 16ms/step - loss: 0.0267 - val_loss: 0.0435\n",
      "Epoch 73/100\n",
      "6/6 [==============================] - 0s 16ms/step - loss: 0.0265 - val_loss: 0.0435\n",
      "Epoch 74/100\n",
      "6/6 [==============================] - 0s 14ms/step - loss: 0.0262 - val_loss: 0.0436\n",
      "Epoch 75/100\n",
      "6/6 [==============================] - 0s 14ms/step - loss: 0.0261 - val_loss: 0.0436\n",
      "Epoch 76/100\n",
      "6/6 [==============================] - 0s 14ms/step - loss: 0.0257 - val_loss: 0.0436\n",
      "Epoch 77/100\n",
      "6/6 [==============================] - 0s 14ms/step - loss: 0.0258 - val_loss: 0.0436\n",
      "Epoch 78/100\n",
      "6/6 [==============================] - 0s 15ms/step - loss: 0.0260 - val_loss: 0.0435\n",
      "Epoch 79/100\n",
      "6/6 [==============================] - 0s 14ms/step - loss: 0.0262 - val_loss: 0.0435\n",
      "Epoch 80/100\n",
      "6/6 [==============================] - 0s 13ms/step - loss: 0.0261 - val_loss: 0.0435\n",
      "Epoch 81/100\n",
      "6/6 [==============================] - 0s 14ms/step - loss: 0.0263 - val_loss: 0.0435\n",
      "Epoch 82/100\n",
      "6/6 [==============================] - 0s 14ms/step - loss: 0.0258 - val_loss: 0.0435\n",
      "Epoch 83/100\n",
      "6/6 [==============================] - 0s 13ms/step - loss: 0.0255 - val_loss: 0.0435\n"
     ]
    },
    {
     "name": "stdout",
     "output_type": "stream",
     "text": [
      "Epoch 84/100\n",
      "6/6 [==============================] - 0s 13ms/step - loss: 0.0263 - val_loss: 0.0435\n",
      "Epoch 85/100\n",
      "6/6 [==============================] - 0s 14ms/step - loss: 0.0255 - val_loss: 0.0435\n",
      "Epoch 86/100\n",
      "6/6 [==============================] - 0s 14ms/step - loss: 0.0256 - val_loss: 0.0435\n",
      "Epoch 87/100\n",
      "6/6 [==============================] - 0s 13ms/step - loss: 0.0259 - val_loss: 0.0434\n",
      "Epoch 88/100\n",
      "6/6 [==============================] - 0s 13ms/step - loss: 0.0264 - val_loss: 0.0434\n",
      "Epoch 89/100\n",
      "6/6 [==============================] - 0s 13ms/step - loss: 0.0257 - val_loss: 0.0435\n",
      "Epoch 90/100\n",
      "6/6 [==============================] - 0s 13ms/step - loss: 0.0256 - val_loss: 0.0435\n",
      "Epoch 91/100\n",
      "6/6 [==============================] - 0s 13ms/step - loss: 0.0260 - val_loss: 0.0435\n",
      "Epoch 92/100\n",
      "6/6 [==============================] - 0s 13ms/step - loss: 0.0255 - val_loss: 0.0435\n",
      "Epoch 93/100\n",
      "6/6 [==============================] - 0s 13ms/step - loss: 0.0264 - val_loss: 0.0435\n",
      "Epoch 94/100\n",
      "6/6 [==============================] - 0s 14ms/step - loss: 0.0258 - val_loss: 0.0435\n",
      "Epoch 95/100\n",
      "6/6 [==============================] - 0s 14ms/step - loss: 0.0262 - val_loss: 0.0435\n",
      "Epoch 96/100\n",
      "6/6 [==============================] - 0s 14ms/step - loss: 0.0263 - val_loss: 0.0434\n",
      "Epoch 97/100\n",
      "6/6 [==============================] - 0s 13ms/step - loss: 0.0255 - val_loss: 0.0434\n",
      "Epoch 98/100\n",
      "6/6 [==============================] - 0s 14ms/step - loss: 0.0260 - val_loss: 0.0434\n",
      "Epoch 99/100\n",
      "6/6 [==============================] - 0s 14ms/step - loss: 0.0254 - val_loss: 0.0434\n",
      "Epoch 100/100\n",
      "6/6 [==============================] - 0s 16ms/step - loss: 0.0253 - val_loss: 0.0433\n"
     ]
    }
   ],
   "source": [
    "## we compile our model and we fit our model:\n",
    "\n",
    "model.compile(optimizer='adam', loss = 'mean_squared_error')\n",
    "history = model.fit(x=scaled_features,y=scaled_target,epochs=100, validation_split=0.1)"
   ]
  },
  {
   "cell_type": "code",
   "execution_count": 16,
   "metadata": {},
   "outputs": [
    {
     "name": "stdout",
     "output_type": "stream",
     "text": [
      "Model: \"sequential_2\"\n",
      "_________________________________________________________________\n",
      "Layer (type)                 Output Shape              Param #   \n",
      "=================================================================\n",
      "lstm_6 (LSTM)                (None, 3, 5)              140       \n",
      "_________________________________________________________________\n",
      "dropout_6 (Dropout)          (None, 3, 5)              0         \n",
      "_________________________________________________________________\n",
      "lstm_7 (LSTM)                (None, 3, 5)              220       \n",
      "_________________________________________________________________\n",
      "dropout_7 (Dropout)          (None, 3, 5)              0         \n",
      "_________________________________________________________________\n",
      "lstm_8 (LSTM)                (None, 5)                 220       \n",
      "_________________________________________________________________\n",
      "dropout_8 (Dropout)          (None, 5)                 0         \n",
      "_________________________________________________________________\n",
      "dense_2 (Dense)              (None, 1)                 6         \n",
      "=================================================================\n",
      "Total params: 586\n",
      "Trainable params: 586\n",
      "Non-trainable params: 0\n",
      "_________________________________________________________________\n"
     ]
    }
   ],
   "source": [
    "model.summary()"
   ]
  },
  {
   "cell_type": "code",
   "execution_count": 17,
   "metadata": {},
   "outputs": [],
   "source": [
    "## the last year will be our test sample:\n",
    "tablas20_5 = glob.glob(\"C:/Users/Javier/Documents/GIT/Repositories/TFM-Textil-Santanderina/data/raw/2019*.xlsx\")\n",
    "tablas20_all = list([tablas20_5])"
   ]
  },
  {
   "cell_type": "code",
   "execution_count": 18,
   "metadata": {},
   "outputs": [],
   "source": [
    "yTest, xTest = df_family(product_family= 2,list_directories=tablas20_all)"
   ]
  },
  {
   "cell_type": "code",
   "execution_count": 19,
   "metadata": {},
   "outputs": [],
   "source": [
    "\n",
    "scaled_target_test = scaler.fit_transform(yTest['target'].values.reshape(-1,1))"
   ]
  },
  {
   "cell_type": "code",
   "execution_count": 20,
   "metadata": {},
   "outputs": [],
   "source": [
    "scaled_features_test = scaler.fit_transform(xTest)"
   ]
  },
  {
   "cell_type": "code",
   "execution_count": 21,
   "metadata": {},
   "outputs": [
    {
     "data": {
      "text/plain": [
       "MinMaxScaler()"
      ]
     },
     "execution_count": 21,
     "metadata": {},
     "output_type": "execute_result"
    }
   ],
   "source": [
    "scaler.fit(yTest)"
   ]
  },
  {
   "cell_type": "code",
   "execution_count": 22,
   "metadata": {},
   "outputs": [],
   "source": [
    "num_test = len(scaled_features_test)\n",
    "scaled_features_test = scaled_features_test.reshape(num_test,3,1)"
   ]
  },
  {
   "cell_type": "code",
   "execution_count": 23,
   "metadata": {},
   "outputs": [],
   "source": [
    "y_output = model.predict(scaled_features_test)"
   ]
  },
  {
   "cell_type": "code",
   "execution_count": 24,
   "metadata": {},
   "outputs": [
    {
     "data": {
      "text/plain": [
       "(48, 1)"
      ]
     },
     "execution_count": 24,
     "metadata": {},
     "output_type": "execute_result"
    }
   ],
   "source": [
    "y_output.shape"
   ]
  },
  {
   "cell_type": "code",
   "execution_count": 25,
   "metadata": {},
   "outputs": [],
   "source": [
    "y_predicted = scaler.inverse_transform(y_output)"
   ]
  },
  {
   "cell_type": "code",
   "execution_count": 64,
   "metadata": {},
   "outputs": [
    {
     "data": {
      "image/png": "[encoded data removed]",
      "text/plain": [
       "<Figure size 3600x720 with 1 Axes>"
      ]
     },
     "metadata": {
      "needs_background": "light"
     },
     "output_type": "display_data"
    }
   ],
   "source": [
    "from pylab import rcParams\n",
    "ax = plt.figure().add_subplot(111)\n",
    "ax.plot(xTest.time,y_output,'-b', label = 'Actual value of the 2019 production.')\n",
    "ax.plot(xTest.time,scaled_target_test, '--r', label = 'Predicted value.')\n",
    "ax. legend(loc='upper left')\n",
    "plt.title('Comparation between the actual time series an the predicted one in our first experiment with LSTM.')\n",
    "plt.xlabel('Time for the end of the year 2019(fraction of weeks).')\n",
    "plt.ylabel('Total value of the production for the family of articles 2, in hundreds of millions.')\n",
    "\n",
    "plt.grid(axis='y', alpha=0.75)\n",
    "\n",
    "rcParams['figure.figsize'] = 50, 10"
   ]
  },
  {
   "cell_type": "code",
   "execution_count": 31,
   "metadata": {},
   "outputs": [
    {
     "data": {
      "text/plain": [
       "array([[0.14844546],\n",
       "       [0.14843296],\n",
       "       [0.14837985],\n",
       "       [0.148289  ],\n",
       "       [0.14816321],\n",
       "       [0.14800514],\n",
       "       [0.14781727],\n",
       "       [0.14760184],\n",
       "       [0.14736104],\n",
       "       [0.14709687],\n",
       "       [0.14681141],\n",
       "       [0.14650692],\n",
       "       [0.1461859 ],\n",
       "       [0.14585125],\n",
       "       [0.14550634],\n",
       "       [0.14515509],\n",
       "       [0.14480197],\n",
       "       [0.14445214],\n",
       "       [0.1441113 ],\n",
       "       [0.14378573],\n",
       "       [0.14348221],\n",
       "       [0.14320785],\n",
       "       [0.14296997],\n",
       "       [0.14277579],\n",
       "       [0.14263214],\n",
       "       [0.14254506],\n",
       "       [0.14251933],\n",
       "       [0.14255808],\n",
       "       [0.1426624 ],\n",
       "       [0.14283097],\n",
       "       [0.14306004],\n",
       "       [0.14334334],\n",
       "       [0.14367245],\n",
       "       [0.14403708],\n",
       "       [0.14442575],\n",
       "       [0.14482632],\n",
       "       [0.14522684],\n",
       "       [0.14561592],\n",
       "       [0.14598346],\n",
       "       [0.14632086],\n",
       "       [0.14662138],\n",
       "       [0.14688002],\n",
       "       [0.14709371],\n",
       "       [0.14726096],\n",
       "       [0.14738177],\n",
       "       [0.14745739],\n",
       "       [0.14749004],\n",
       "       [0.14748262]], dtype=float32)"
      ]
     },
     "execution_count": 31,
     "metadata": {},
     "output_type": "execute_result"
    }
   ],
   "source": [
    "y_output"
   ]
  },
  {
   "cell_type": "code",
   "execution_count": 30,
   "metadata": {},
   "outputs": [
    {
     "data": {
      "text/plain": [
       "array([[0.296924  ],\n",
       "       [0.03278346],\n",
       "       [0.16325091],\n",
       "       [0.08773707],\n",
       "       [0.18624317],\n",
       "       [0.02204266],\n",
       "       [0.4061706 ],\n",
       "       [0.17545549],\n",
       "       [0.91744369],\n",
       "       [0.03137784],\n",
       "       [0.12732266],\n",
       "       [0.13865885],\n",
       "       [0.2824978 ],\n",
       "       [0.05706139],\n",
       "       [0.02951603],\n",
       "       [0.0662299 ],\n",
       "       [0.36731913],\n",
       "       [0.03523403],\n",
       "       [0.14905691],\n",
       "       [0.13484756],\n",
       "       [0.75677041],\n",
       "       [0.2249195 ],\n",
       "       [0.20753617],\n",
       "       [0.10580952],\n",
       "       [0.46001991],\n",
       "       [0.0616234 ],\n",
       "       [0.31161478],\n",
       "       [0.03365923],\n",
       "       [0.10050701],\n",
       "       [0.        ],\n",
       "       [0.00045144],\n",
       "       [0.01555596],\n",
       "       [1.        ],\n",
       "       [0.0683436 ],\n",
       "       [0.53445554],\n",
       "       [0.35768438],\n",
       "       [0.5000007 ],\n",
       "       [0.35718061],\n",
       "       [0.01510549],\n",
       "       [0.02366015],\n",
       "       [0.44785546],\n",
       "       [0.2004569 ],\n",
       "       [0.2101918 ],\n",
       "       [0.01811937],\n",
       "       [0.01554232],\n",
       "       [0.00819193],\n",
       "       [0.00341554],\n",
       "       [0.00000059]])"
      ]
     },
     "execution_count": 30,
     "metadata": {},
     "output_type": "execute_result"
    }
   ],
   "source": [
    "scaled_target_test"
   ]
  },
  {
   "cell_type": "code",
   "execution_count": 53,
   "metadata": {},
   "outputs": [
    {
     "data": {
      "text/plain": [
       "8788040727360341.0"
      ]
     },
     "execution_count": 53,
     "metadata": {},
     "output_type": "execute_result"
    }
   ],
   "source": [
    "## very high error:\n",
    "mean_squared_error(yTest.target, y_predicted)"
   ]
  },
  {
   "cell_type": "code",
   "execution_count": 36,
   "metadata": {},
   "outputs": [],
   "source": [
    "## we store our generated datasets for test:\n",
    "xTest.to_pickle(\"xTest_f2\")\n",
    "yTest.to_pickle(\"yTest_f2\")"
   ]
  }
 ],
 "metadata": {
  "kernelspec": {
   "display_name": "Python 3",
   "language": "python",
   "name": "python3"
  },
  "language_info": {
   "codemirror_mode": {
    "name": "ipython",
    "version": 3
   },
   "file_extension": ".py",
   "mimetype": "text/x-python",
   "name": "python",
   "nbconvert_exporter": "python",
   "pygments_lexer": "ipython3",
   "version": "3.8.5"
  }
 },
 "nbformat": 4,
 "nbformat_minor": 4
}
